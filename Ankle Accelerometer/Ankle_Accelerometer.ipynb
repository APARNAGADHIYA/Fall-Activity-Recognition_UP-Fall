{
  "nbformat": 4,
  "nbformat_minor": 0,
  "metadata": {
    "colab": {
      "name": "Ankle_Accelerometer.ipynb",
      "provenance": [],
      "collapsed_sections": []
    },
    "kernelspec": {
      "name": "python3",
      "display_name": "Python 3"
    }
  },
  "cells": [
    {
      "cell_type": "code",
      "metadata": {
        "colab": {
          "base_uri": "https://localhost:8080/"
        },
        "id": "x6jKimf65NbZ",
        "outputId": "360ffd75-5ae1-4a9f-f60f-f5eaca567f4f"
      },
      "source": [
        "import tensorflow as tf\r\n",
        "from tensorflow.keras import Sequential\r\n",
        "from tensorflow.keras.layers import Flatten, Dense, Dropout, BatchNormalization\r\n",
        "from tensorflow.keras.layers import Conv2D, MaxPool2D\r\n",
        "from tensorflow.keras.optimizers import Adam\r\n",
        "print(tf.__version__)"
      ],
      "execution_count": 1,
      "outputs": [
        {
          "output_type": "stream",
          "text": [
            "2.4.1\n"
          ],
          "name": "stdout"
        }
      ]
    },
    {
      "cell_type": "code",
      "metadata": {
        "id": "IrWM05MVemR6"
      },
      "source": [
        "import pandas as pd\r\n",
        "import numpy as np\r\n",
        "import matplotlib.pyplot as plt\r\n",
        "import seaborn as sns\r\n",
        "from sklearn.model_selection import train_test_split\r\n",
        "from sklearn.preprocessing import StandardScaler, LabelEncoder"
      ],
      "execution_count": 2,
      "outputs": []
    },
    {
      "cell_type": "code",
      "metadata": {
        "id": "bv2gg3hleVM5"
      },
      "source": [
        "dataset=pd.read_csv(\"/content/drive/MyDrive/Fall Detection_UP Fall Dataset/CompleteDataSet.csv\", low_memory= False)"
      ],
      "execution_count": 4,
      "outputs": []
    },
    {
      "cell_type": "code",
      "metadata": {
        "colab": {
          "base_uri": "https://localhost:8080/"
        },
        "id": "GUFzvH2f56m2",
        "outputId": "2646ceb7-8fe4-4877-d974-c44cd0016a1a"
      },
      "source": [
        "dataset.shape"
      ],
      "execution_count": 5,
      "outputs": [
        {
          "output_type": "execute_result",
          "data": {
            "text/plain": [
              "(294679, 47)"
            ]
          },
          "metadata": {
            "tags": []
          },
          "execution_count": 5
        }
      ]
    },
    {
      "cell_type": "code",
      "metadata": {
        "colab": {
          "base_uri": "https://localhost:8080/"
        },
        "id": "p23kVz9J5-Bj",
        "outputId": "4777ef03-331c-4959-b874-92e2c6c7091c"
      },
      "source": [
        "dataset.info()"
      ],
      "execution_count": 6,
      "outputs": [
        {
          "output_type": "stream",
          "text": [
            "<class 'pandas.core.frame.DataFrame'>\n",
            "RangeIndex: 294679 entries, 0 to 294678\n",
            "Data columns (total 47 columns):\n",
            " #   Column                      Non-Null Count   Dtype  \n",
            "---  ------                      --------------   -----  \n",
            " 0   TimeStamps                  294678 non-null  object \n",
            " 1   AnkleAccelerometer          294679 non-null  object \n",
            " 2   Unnamed: 2                  294679 non-null  object \n",
            " 3   Unnamed: 3                  294679 non-null  object \n",
            " 4   AnkleAngularVelocity        294679 non-null  object \n",
            " 5   Unnamed: 5                  294679 non-null  object \n",
            " 6   Unnamed: 6                  294679 non-null  object \n",
            " 7   AnkleLuminosity             294679 non-null  object \n",
            " 8   RightPocketAccelerometer    258570 non-null  object \n",
            " 9   Unnamed: 9                  258570 non-null  object \n",
            " 10  Unnamed: 10                 258570 non-null  object \n",
            " 11  RightPocketAngularVelocity  258570 non-null  object \n",
            " 12  Unnamed: 12                 258570 non-null  object \n",
            " 13  Unnamed: 13                 258570 non-null  object \n",
            " 14  RightPocketLuminosity       258570 non-null  object \n",
            " 15  BeltAccelerometer           294679 non-null  object \n",
            " 16  Unnamed: 16                 294679 non-null  object \n",
            " 17  Unnamed: 17                 294679 non-null  object \n",
            " 18  BeltAngularVelocity         294679 non-null  object \n",
            " 19  Unnamed: 19                 294679 non-null  object \n",
            " 20  Unnamed: 20                 294679 non-null  object \n",
            " 21  BeltLuminosity              294679 non-null  object \n",
            " 22  NeckAccelerometer           294679 non-null  object \n",
            " 23  Unnamed: 23                 294679 non-null  object \n",
            " 24  Unnamed: 24                 294679 non-null  object \n",
            " 25  NeckAngularVelocity         294679 non-null  object \n",
            " 26  Unnamed: 26                 294679 non-null  object \n",
            " 27  Unnamed: 27                 294679 non-null  object \n",
            " 28  NeckLuminosity              294679 non-null  object \n",
            " 29  WristAccelerometer          294679 non-null  object \n",
            " 30  Unnamed: 30                 294679 non-null  object \n",
            " 31  Unnamed: 31                 294679 non-null  object \n",
            " 32  WristAngularVelocity        294679 non-null  object \n",
            " 33  Unnamed: 33                 294679 non-null  object \n",
            " 34  Unnamed: 34                 294679 non-null  object \n",
            " 35  WristLuminosity             294679 non-null  object \n",
            " 36  BrainSensor                 294223 non-null  float64\n",
            " 37  Infrared1                   294678 non-null  float64\n",
            " 38  Infrared2                   294678 non-null  float64\n",
            " 39  Infrared3                   294678 non-null  float64\n",
            " 40  Infrared4                   294678 non-null  float64\n",
            " 41  Infrared5                   294678 non-null  float64\n",
            " 42  Infrared6                   294678 non-null  float64\n",
            " 43  Subject                     294678 non-null  float64\n",
            " 44  Activity                    294678 non-null  float64\n",
            " 45  Trial                       294678 non-null  float64\n",
            " 46  Tag                         294678 non-null  float64\n",
            "dtypes: float64(11), object(36)\n",
            "memory usage: 105.7+ MB\n"
          ],
          "name": "stdout"
        }
      ]
    },
    {
      "cell_type": "code",
      "metadata": {
        "colab": {
          "base_uri": "https://localhost:8080/"
        },
        "id": "9fkWE_3a6M-H",
        "outputId": "8b280cf3-d12c-4123-8265-7010b4730409"
      },
      "source": [
        "dataset['Activity'].value_counts()"
      ],
      "execution_count": 7,
      "outputs": [
        {
          "output_type": "execute_result",
          "data": {
            "text/plain": [
              "6.0     54568\n",
              "7.0     54032\n",
              "8.0     53689\n",
              "11.0    50872\n",
              "10.0    26694\n",
              "4.0      9248\n",
              "3.0      9237\n",
              "1.0      9204\n",
              "2.0      9188\n",
              "5.0      9074\n",
              "9.0      8872\n",
              "Name: Activity, dtype: int64"
            ]
          },
          "metadata": {
            "tags": []
          },
          "execution_count": 7
        }
      ]
    },
    {
      "cell_type": "code",
      "metadata": {
        "colab": {
          "base_uri": "https://localhost:8080/"
        },
        "id": "YPo1SnV37Lui",
        "outputId": "d173b1ba-42fc-4a85-b886-9e43c25345b9"
      },
      "source": [
        "exp=pd. read_csv(\"/content/drive/MyDrive/Fall Detection_UP Fall Dataset/DataSet.csv\", usecols=['x-axis (g)','y-axis (g)','z-axis (g)','Activity'])\r\n",
        "print(exp)"
      ],
      "execution_count": 39,
      "outputs": [
        {
          "output_type": "stream",
          "text": [
            "        x-axis (g)  y-axis (g)  z-axis (g)  Activity\n",
            "0           -1.005       0.229      -0.083         1\n",
            "1           -1.005       0.228      -0.082         1\n",
            "2           -1.005       0.231      -0.079         1\n",
            "3           -1.005       0.231      -0.079         1\n",
            "4           -1.008       0.229      -0.072         1\n",
            "...            ...         ...         ...       ...\n",
            "294673       0.247       0.948       0.120        11\n",
            "294674       0.247       0.952       0.121        11\n",
            "294675       0.246       0.952       0.115        11\n",
            "294676       0.249       0.949       0.120        11\n",
            "294677       0.249       0.949       0.120        11\n",
            "\n",
            "[294678 rows x 4 columns]\n"
          ],
          "name": "stdout"
        }
      ]
    },
    {
      "cell_type": "code",
      "metadata": {
        "id": "lL-iheoTnEdG"
      },
      "source": [
        "exp['x-axis (g)'] = exp['x-axis (g)'].astype('float')\r\n",
        "exp['y-axis (g)'] = exp['y-axis (g)'].astype('float')\r\n",
        "exp['z-axis (g)'] = exp['z-axis (g)'].astype('float')\r\n"
      ],
      "execution_count": 40,
      "outputs": []
    },
    {
      "cell_type": "code",
      "metadata": {
        "colab": {
          "base_uri": "https://localhost:8080/"
        },
        "id": "sbPT7RHeDvuc",
        "outputId": "49b67218-db05-431a-aa62-d1aca3563646"
      },
      "source": [
        "exp.shape"
      ],
      "execution_count": 41,
      "outputs": [
        {
          "output_type": "execute_result",
          "data": {
            "text/plain": [
              "(294678, 4)"
            ]
          },
          "metadata": {
            "tags": []
          },
          "execution_count": 41
        }
      ]
    },
    {
      "cell_type": "code",
      "metadata": {
        "colab": {
          "base_uri": "https://localhost:8080/"
        },
        "id": "g0S-plfEDyTI",
        "outputId": "8bf320b7-eb4b-4bdb-9a92-5563c77e4940"
      },
      "source": [
        "exp.info()"
      ],
      "execution_count": 42,
      "outputs": [
        {
          "output_type": "stream",
          "text": [
            "<class 'pandas.core.frame.DataFrame'>\n",
            "RangeIndex: 294678 entries, 0 to 294677\n",
            "Data columns (total 4 columns):\n",
            " #   Column      Non-Null Count   Dtype  \n",
            "---  ------      --------------   -----  \n",
            " 0   x-axis (g)  294678 non-null  float64\n",
            " 1   y-axis (g)  294678 non-null  float64\n",
            " 2   z-axis (g)  294678 non-null  float64\n",
            " 3   Activity    294678 non-null  int64  \n",
            "dtypes: float64(3), int64(1)\n",
            "memory usage: 9.0 MB\n"
          ],
          "name": "stdout"
        }
      ]
    },
    {
      "cell_type": "code",
      "metadata": {
        "colab": {
          "base_uri": "https://localhost:8080/",
          "height": 198
        },
        "id": "MADa9dUfJZHC",
        "outputId": "d4ecb8ba-8b8c-4384-f496-11b6d208301a"
      },
      "source": [
        "exp.head()"
      ],
      "execution_count": 43,
      "outputs": [
        {
          "output_type": "execute_result",
          "data": {
            "text/html": [
              "<div>\n",
              "<style scoped>\n",
              "    .dataframe tbody tr th:only-of-type {\n",
              "        vertical-align: middle;\n",
              "    }\n",
              "\n",
              "    .dataframe tbody tr th {\n",
              "        vertical-align: top;\n",
              "    }\n",
              "\n",
              "    .dataframe thead th {\n",
              "        text-align: right;\n",
              "    }\n",
              "</style>\n",
              "<table border=\"1\" class=\"dataframe\">\n",
              "  <thead>\n",
              "    <tr style=\"text-align: right;\">\n",
              "      <th></th>\n",
              "      <th>x-axis (g)</th>\n",
              "      <th>y-axis (g)</th>\n",
              "      <th>z-axis (g)</th>\n",
              "      <th>Activity</th>\n",
              "    </tr>\n",
              "  </thead>\n",
              "  <tbody>\n",
              "    <tr>\n",
              "      <th>0</th>\n",
              "      <td>-1.005</td>\n",
              "      <td>0.229</td>\n",
              "      <td>-0.083</td>\n",
              "      <td>1</td>\n",
              "    </tr>\n",
              "    <tr>\n",
              "      <th>1</th>\n",
              "      <td>-1.005</td>\n",
              "      <td>0.228</td>\n",
              "      <td>-0.082</td>\n",
              "      <td>1</td>\n",
              "    </tr>\n",
              "    <tr>\n",
              "      <th>2</th>\n",
              "      <td>-1.005</td>\n",
              "      <td>0.231</td>\n",
              "      <td>-0.079</td>\n",
              "      <td>1</td>\n",
              "    </tr>\n",
              "    <tr>\n",
              "      <th>3</th>\n",
              "      <td>-1.005</td>\n",
              "      <td>0.231</td>\n",
              "      <td>-0.079</td>\n",
              "      <td>1</td>\n",
              "    </tr>\n",
              "    <tr>\n",
              "      <th>4</th>\n",
              "      <td>-1.008</td>\n",
              "      <td>0.229</td>\n",
              "      <td>-0.072</td>\n",
              "      <td>1</td>\n",
              "    </tr>\n",
              "  </tbody>\n",
              "</table>\n",
              "</div>"
            ],
            "text/plain": [
              "   x-axis (g)  y-axis (g)  z-axis (g)  Activity\n",
              "0      -1.005       0.229      -0.083         1\n",
              "1      -1.005       0.228      -0.082         1\n",
              "2      -1.005       0.231      -0.079         1\n",
              "3      -1.005       0.231      -0.079         1\n",
              "4      -1.008       0.229      -0.072         1"
            ]
          },
          "metadata": {
            "tags": []
          },
          "execution_count": 43
        }
      ]
    },
    {
      "cell_type": "code",
      "metadata": {
        "colab": {
          "base_uri": "https://localhost:8080/"
        },
        "id": "2lZS63SUEE1o",
        "outputId": "271e760f-63d7-40c4-c5c6-fea0af47458f"
      },
      "source": [
        "exp['Activity'].value_counts()\r\n"
      ],
      "execution_count": 49,
      "outputs": [
        {
          "output_type": "execute_result",
          "data": {
            "text/plain": [
              "6     54568\n",
              "7     54032\n",
              "8     53689\n",
              "11    50872\n",
              "10    26694\n",
              "4      9248\n",
              "3      9237\n",
              "1      9204\n",
              "2      9188\n",
              "5      9074\n",
              "9      8872\n",
              "Name: Activity, dtype: int64"
            ]
          },
          "metadata": {
            "tags": []
          },
          "execution_count": 49
        }
      ]
    },
    {
      "cell_type": "code",
      "metadata": {
        "id": "wvvrsnUVK2U1"
      },
      "source": [
        "activities = exp['Activity'].value_counts().index\r\n",
        "activities"
      ],
      "execution_count": null,
      "outputs": []
    },
    {
      "cell_type": "code",
      "metadata": {
        "id": "5KQtCuXsExvH"
      },
      "source": [
        "Walking = exp[exp['Activity']== 6].head(8872).copy()\r\n",
        "Standing = exp[exp['Activity']== 7].head(8872).copy()\r\n",
        "Sitting = exp[exp['Activity']== 8].head(8872).copy()\r\n",
        "Laying = exp[exp['Activity']== 11].head(8872).copy()\r\n",
        "Jumping = exp[exp['Activity']== 10].head(8872).copy()\r\n",
        "Falling_Sideways= exp[exp['Activity']== 4].head(8872).copy()\r\n",
        "Falling_Backwards= exp[exp['Activity']== 3].head(8872).copy()\r\n",
        "Falling_Forward_Using_Hands= exp[exp['Activity']== 1].head(8872).copy()\r\n",
        "Falling_Forward_Using_Knees = exp[exp['Activity']== 2].head(8872).copy()\r\n",
        "Falling_Sitting_in_Empty_Chair = exp[exp['Activity']== 5].head(8872).copy()\r\n",
        "Picking_Up_an_Object= exp[exp['Activity']== 9].copy()"
      ],
      "execution_count": 56,
      "outputs": []
    },
    {
      "cell_type": "code",
      "metadata": {
        "colab": {
          "base_uri": "https://localhost:8080/"
        },
        "id": "v842YUCOHkmF",
        "outputId": "98bece52-05eb-4353-b542-150923f20656"
      },
      "source": [
        "balanced_data = pd.DataFrame()\r\n",
        "balanced_data = balanced_data.append([Falling_Forward_Using_Hands,Falling_Forward_Using_Knees,Falling_Backwards,Falling_Sideways,Falling_Sitting_in_Empty_Chair,Walking,Standing,Sitting,Picking_Up_an_Object,Jumping,Laying])\r\n",
        "balanced_data.shape"
      ],
      "execution_count": 57,
      "outputs": [
        {
          "output_type": "execute_result",
          "data": {
            "text/plain": [
              "(97592, 4)"
            ]
          },
          "metadata": {
            "tags": []
          },
          "execution_count": 57
        }
      ]
    },
    {
      "cell_type": "code",
      "metadata": {
        "colab": {
          "base_uri": "https://localhost:8080/"
        },
        "id": "6JJxJTBnIglC",
        "outputId": "3fc466dd-d72a-4d06-f1c7-d97d30a534dc"
      },
      "source": [
        "balanced_data.info()"
      ],
      "execution_count": 58,
      "outputs": [
        {
          "output_type": "stream",
          "text": [
            "<class 'pandas.core.frame.DataFrame'>\n",
            "Int64Index: 97592 entries, 0 to 52214\n",
            "Data columns (total 4 columns):\n",
            " #   Column      Non-Null Count  Dtype  \n",
            "---  ------      --------------  -----  \n",
            " 0   x-axis (g)  97592 non-null  float64\n",
            " 1   y-axis (g)  97592 non-null  float64\n",
            " 2   z-axis (g)  97592 non-null  float64\n",
            " 3   Activity    97592 non-null  int64  \n",
            "dtypes: float64(3), int64(1)\n",
            "memory usage: 3.7 MB\n"
          ],
          "name": "stdout"
        }
      ]
    },
    {
      "cell_type": "code",
      "metadata": {
        "colab": {
          "base_uri": "https://localhost:8080/"
        },
        "id": "1PAiUPTDI0RD",
        "outputId": "d16800ca-d420-4901-bbb5-b2e3c43efd4c"
      },
      "source": [
        "balanced_data['Activity'].value_counts()"
      ],
      "execution_count": 59,
      "outputs": [
        {
          "output_type": "execute_result",
          "data": {
            "text/plain": [
              "11    8872\n",
              "10    8872\n",
              "9     8872\n",
              "8     8872\n",
              "7     8872\n",
              "6     8872\n",
              "5     8872\n",
              "4     8872\n",
              "3     8872\n",
              "2     8872\n",
              "1     8872\n",
              "Name: Activity, dtype: int64"
            ]
          },
          "metadata": {
            "tags": []
          },
          "execution_count": 59
        }
      ]
    },
    {
      "cell_type": "code",
      "metadata": {
        "colab": {
          "base_uri": "https://localhost:8080/",
          "height": 198
        },
        "id": "wXzsGAShJBLS",
        "outputId": "cbd88e37-7bb4-4ef3-c098-2f770a8ca2b7"
      },
      "source": [
        "balanced_data.head()"
      ],
      "execution_count": 60,
      "outputs": [
        {
          "output_type": "execute_result",
          "data": {
            "text/html": [
              "<div>\n",
              "<style scoped>\n",
              "    .dataframe tbody tr th:only-of-type {\n",
              "        vertical-align: middle;\n",
              "    }\n",
              "\n",
              "    .dataframe tbody tr th {\n",
              "        vertical-align: top;\n",
              "    }\n",
              "\n",
              "    .dataframe thead th {\n",
              "        text-align: right;\n",
              "    }\n",
              "</style>\n",
              "<table border=\"1\" class=\"dataframe\">\n",
              "  <thead>\n",
              "    <tr style=\"text-align: right;\">\n",
              "      <th></th>\n",
              "      <th>x-axis (g)</th>\n",
              "      <th>y-axis (g)</th>\n",
              "      <th>z-axis (g)</th>\n",
              "      <th>Activity</th>\n",
              "    </tr>\n",
              "  </thead>\n",
              "  <tbody>\n",
              "    <tr>\n",
              "      <th>0</th>\n",
              "      <td>-1.005</td>\n",
              "      <td>0.229</td>\n",
              "      <td>-0.083</td>\n",
              "      <td>1</td>\n",
              "    </tr>\n",
              "    <tr>\n",
              "      <th>1</th>\n",
              "      <td>-1.005</td>\n",
              "      <td>0.228</td>\n",
              "      <td>-0.082</td>\n",
              "      <td>1</td>\n",
              "    </tr>\n",
              "    <tr>\n",
              "      <th>2</th>\n",
              "      <td>-1.005</td>\n",
              "      <td>0.231</td>\n",
              "      <td>-0.079</td>\n",
              "      <td>1</td>\n",
              "    </tr>\n",
              "    <tr>\n",
              "      <th>3</th>\n",
              "      <td>-1.005</td>\n",
              "      <td>0.231</td>\n",
              "      <td>-0.079</td>\n",
              "      <td>1</td>\n",
              "    </tr>\n",
              "    <tr>\n",
              "      <th>4</th>\n",
              "      <td>-1.008</td>\n",
              "      <td>0.229</td>\n",
              "      <td>-0.072</td>\n",
              "      <td>1</td>\n",
              "    </tr>\n",
              "  </tbody>\n",
              "</table>\n",
              "</div>"
            ],
            "text/plain": [
              "   x-axis (g)  y-axis (g)  z-axis (g)  Activity\n",
              "0      -1.005       0.229      -0.083         1\n",
              "1      -1.005       0.228      -0.082         1\n",
              "2      -1.005       0.231      -0.079         1\n",
              "3      -1.005       0.231      -0.079         1\n",
              "4      -1.008       0.229      -0.072         1"
            ]
          },
          "metadata": {
            "tags": []
          },
          "execution_count": 60
        }
      ]
    },
    {
      "cell_type": "code",
      "metadata": {
        "colab": {
          "base_uri": "https://localhost:8080/",
          "height": 198
        },
        "id": "IybG4h97Mf4z",
        "outputId": "6de90694-4c79-4532-cd1a-9e2bc84ba0b4"
      },
      "source": [
        "from sklearn.preprocessing import LabelEncoder\r\n",
        "label = LabelEncoder()\r\n",
        "balanced_data['label'] = label.fit_transform(balanced_data['Activity'])\r\n",
        "balanced_data.head()"
      ],
      "execution_count": 61,
      "outputs": [
        {
          "output_type": "execute_result",
          "data": {
            "text/html": [
              "<div>\n",
              "<style scoped>\n",
              "    .dataframe tbody tr th:only-of-type {\n",
              "        vertical-align: middle;\n",
              "    }\n",
              "\n",
              "    .dataframe tbody tr th {\n",
              "        vertical-align: top;\n",
              "    }\n",
              "\n",
              "    .dataframe thead th {\n",
              "        text-align: right;\n",
              "    }\n",
              "</style>\n",
              "<table border=\"1\" class=\"dataframe\">\n",
              "  <thead>\n",
              "    <tr style=\"text-align: right;\">\n",
              "      <th></th>\n",
              "      <th>x-axis (g)</th>\n",
              "      <th>y-axis (g)</th>\n",
              "      <th>z-axis (g)</th>\n",
              "      <th>Activity</th>\n",
              "      <th>label</th>\n",
              "    </tr>\n",
              "  </thead>\n",
              "  <tbody>\n",
              "    <tr>\n",
              "      <th>0</th>\n",
              "      <td>-1.005</td>\n",
              "      <td>0.229</td>\n",
              "      <td>-0.083</td>\n",
              "      <td>1</td>\n",
              "      <td>0</td>\n",
              "    </tr>\n",
              "    <tr>\n",
              "      <th>1</th>\n",
              "      <td>-1.005</td>\n",
              "      <td>0.228</td>\n",
              "      <td>-0.082</td>\n",
              "      <td>1</td>\n",
              "      <td>0</td>\n",
              "    </tr>\n",
              "    <tr>\n",
              "      <th>2</th>\n",
              "      <td>-1.005</td>\n",
              "      <td>0.231</td>\n",
              "      <td>-0.079</td>\n",
              "      <td>1</td>\n",
              "      <td>0</td>\n",
              "    </tr>\n",
              "    <tr>\n",
              "      <th>3</th>\n",
              "      <td>-1.005</td>\n",
              "      <td>0.231</td>\n",
              "      <td>-0.079</td>\n",
              "      <td>1</td>\n",
              "      <td>0</td>\n",
              "    </tr>\n",
              "    <tr>\n",
              "      <th>4</th>\n",
              "      <td>-1.008</td>\n",
              "      <td>0.229</td>\n",
              "      <td>-0.072</td>\n",
              "      <td>1</td>\n",
              "      <td>0</td>\n",
              "    </tr>\n",
              "  </tbody>\n",
              "</table>\n",
              "</div>"
            ],
            "text/plain": [
              "   x-axis (g)  y-axis (g)  z-axis (g)  Activity  label\n",
              "0      -1.005       0.229      -0.083         1      0\n",
              "1      -1.005       0.228      -0.082         1      0\n",
              "2      -1.005       0.231      -0.079         1      0\n",
              "3      -1.005       0.231      -0.079         1      0\n",
              "4      -1.008       0.229      -0.072         1      0"
            ]
          },
          "metadata": {
            "tags": []
          },
          "execution_count": 61
        }
      ]
    },
    {
      "cell_type": "code",
      "metadata": {
        "colab": {
          "base_uri": "https://localhost:8080/"
        },
        "id": "7n4DprwIMngb",
        "outputId": "fdf503ea-dae3-40fc-a4ee-4114d53d28de"
      },
      "source": [
        "label.classes_"
      ],
      "execution_count": 62,
      "outputs": [
        {
          "output_type": "execute_result",
          "data": {
            "text/plain": [
              "array([ 1,  2,  3,  4,  5,  6,  7,  8,  9, 10, 11])"
            ]
          },
          "metadata": {
            "tags": []
          },
          "execution_count": 62
        }
      ]
    },
    {
      "cell_type": "code",
      "metadata": {
        "id": "UYOzm450M11c"
      },
      "source": [
        "X = balanced_data[['x-axis (g)', 'y-axis (g)', 'z-axis (g)']]\r\n",
        "y = balanced_data['label']"
      ],
      "execution_count": 63,
      "outputs": []
    },
    {
      "cell_type": "code",
      "metadata": {
        "colab": {
          "base_uri": "https://localhost:8080/",
          "height": 407
        },
        "id": "xRVGYKW3NFIt",
        "outputId": "bc2dc705-df86-489e-f086-6d8293740928"
      },
      "source": [
        "scaler = StandardScaler()\r\n",
        "X = scaler.fit_transform(X)\r\n",
        "\r\n",
        "scaled_X = pd.DataFrame(data = X, columns = ['x-axis (g)', 'y-axis (g)', 'z-axis (g)'])\r\n",
        "scaled_X['label'] = y.values\r\n",
        "\r\n",
        "scaled_X"
      ],
      "execution_count": 64,
      "outputs": [
        {
          "output_type": "execute_result",
          "data": {
            "text/html": [
              "<div>\n",
              "<style scoped>\n",
              "    .dataframe tbody tr th:only-of-type {\n",
              "        vertical-align: middle;\n",
              "    }\n",
              "\n",
              "    .dataframe tbody tr th {\n",
              "        vertical-align: top;\n",
              "    }\n",
              "\n",
              "    .dataframe thead th {\n",
              "        text-align: right;\n",
              "    }\n",
              "</style>\n",
              "<table border=\"1\" class=\"dataframe\">\n",
              "  <thead>\n",
              "    <tr style=\"text-align: right;\">\n",
              "      <th></th>\n",
              "      <th>x-axis (g)</th>\n",
              "      <th>y-axis (g)</th>\n",
              "      <th>z-axis (g)</th>\n",
              "      <th>label</th>\n",
              "    </tr>\n",
              "  </thead>\n",
              "  <tbody>\n",
              "    <tr>\n",
              "      <th>0</th>\n",
              "      <td>-0.774863</td>\n",
              "      <td>0.240600</td>\n",
              "      <td>0.174372</td>\n",
              "      <td>0</td>\n",
              "    </tr>\n",
              "    <tr>\n",
              "      <th>1</th>\n",
              "      <td>-0.774863</td>\n",
              "      <td>0.238900</td>\n",
              "      <td>0.176561</td>\n",
              "      <td>0</td>\n",
              "    </tr>\n",
              "    <tr>\n",
              "      <th>2</th>\n",
              "      <td>-0.774863</td>\n",
              "      <td>0.243999</td>\n",
              "      <td>0.183125</td>\n",
              "      <td>0</td>\n",
              "    </tr>\n",
              "    <tr>\n",
              "      <th>3</th>\n",
              "      <td>-0.774863</td>\n",
              "      <td>0.243999</td>\n",
              "      <td>0.183125</td>\n",
              "      <td>0</td>\n",
              "    </tr>\n",
              "    <tr>\n",
              "      <th>4</th>\n",
              "      <td>-0.779578</td>\n",
              "      <td>0.240600</td>\n",
              "      <td>0.198443</td>\n",
              "      <td>0</td>\n",
              "    </tr>\n",
              "    <tr>\n",
              "      <th>...</th>\n",
              "      <td>...</td>\n",
              "      <td>...</td>\n",
              "      <td>...</td>\n",
              "      <td>...</td>\n",
              "    </tr>\n",
              "    <tr>\n",
              "      <th>97587</th>\n",
              "      <td>0.646043</td>\n",
              "      <td>-0.675589</td>\n",
              "      <td>-1.722874</td>\n",
              "      <td>10</td>\n",
              "    </tr>\n",
              "    <tr>\n",
              "      <th>97588</th>\n",
              "      <td>0.646043</td>\n",
              "      <td>-0.675589</td>\n",
              "      <td>-1.722874</td>\n",
              "      <td>10</td>\n",
              "    </tr>\n",
              "    <tr>\n",
              "      <th>97589</th>\n",
              "      <td>0.644471</td>\n",
              "      <td>-0.680688</td>\n",
              "      <td>-1.720686</td>\n",
              "      <td>10</td>\n",
              "    </tr>\n",
              "    <tr>\n",
              "      <th>97590</th>\n",
              "      <td>0.649187</td>\n",
              "      <td>-0.682388</td>\n",
              "      <td>-1.714121</td>\n",
              "      <td>10</td>\n",
              "    </tr>\n",
              "    <tr>\n",
              "      <th>97591</th>\n",
              "      <td>0.649187</td>\n",
              "      <td>-0.682388</td>\n",
              "      <td>-1.714121</td>\n",
              "      <td>10</td>\n",
              "    </tr>\n",
              "  </tbody>\n",
              "</table>\n",
              "<p>97592 rows × 4 columns</p>\n",
              "</div>"
            ],
            "text/plain": [
              "       x-axis (g)  y-axis (g)  z-axis (g)  label\n",
              "0       -0.774863    0.240600    0.174372      0\n",
              "1       -0.774863    0.238900    0.176561      0\n",
              "2       -0.774863    0.243999    0.183125      0\n",
              "3       -0.774863    0.243999    0.183125      0\n",
              "4       -0.779578    0.240600    0.198443      0\n",
              "...           ...         ...         ...    ...\n",
              "97587    0.646043   -0.675589   -1.722874     10\n",
              "97588    0.646043   -0.675589   -1.722874     10\n",
              "97589    0.644471   -0.680688   -1.720686     10\n",
              "97590    0.649187   -0.682388   -1.714121     10\n",
              "97591    0.649187   -0.682388   -1.714121     10\n",
              "\n",
              "[97592 rows x 4 columns]"
            ]
          },
          "metadata": {
            "tags": []
          },
          "execution_count": 64
        }
      ]
    },
    {
      "cell_type": "code",
      "metadata": {
        "id": "D6unGXABQg3i"
      },
      "source": [
        "import scipy.stats as stats\r\n",
        "Fs = 20\r\n",
        "frame_size = Fs*4 # 80\r\n",
        "hop_size = Fs*2 # 40"
      ],
      "execution_count": 65,
      "outputs": []
    },
    {
      "cell_type": "code",
      "metadata": {
        "id": "fdwQMZZCQmsq"
      },
      "source": [
        "def get_frames(exp, frame_size, hop_size):\r\n",
        "\r\n",
        "    N_FEATURES = 3\r\n",
        "\r\n",
        "    frames = []\r\n",
        "    labels = []\r\n",
        "    for i in range(0, len(exp) - frame_size, hop_size):\r\n",
        "        x = exp['x-axis (g)'].values[i: i + frame_size]\r\n",
        "        y = exp['y-axis (g)'].values[i: i + frame_size]\r\n",
        "        z = exp['z-axis (g)'].values[i: i + frame_size]\r\n",
        "        \r\n",
        "        # Retrieve the most often used label in this segment\r\n",
        "        label = stats.mode(exp['label'][i: i + frame_size])[0][0]\r\n",
        "        frames.append([x, y, z])\r\n",
        "        labels.append(label)\r\n",
        "\r\n",
        "    # Bring the segments into a better shape\r\n",
        "    frames = np.asarray(frames).reshape(-1, frame_size, N_FEATURES)\r\n",
        "    labels = np.asarray(labels)\r\n",
        "\r\n",
        "    return frames, labels"
      ],
      "execution_count": 70,
      "outputs": []
    },
    {
      "cell_type": "code",
      "metadata": {
        "id": "qOMJFqHgQrvT"
      },
      "source": [
        "X, y = get_frames(scaled_X, frame_size, hop_size)"
      ],
      "execution_count": 71,
      "outputs": []
    },
    {
      "cell_type": "code",
      "metadata": {
        "colab": {
          "base_uri": "https://localhost:8080/"
        },
        "id": "AmuKRCmBSmCd",
        "outputId": "941075e7-7229-4a6e-cea9-a46c970356ea"
      },
      "source": [
        "X.shape, y.shape"
      ],
      "execution_count": 72,
      "outputs": [
        {
          "output_type": "execute_result",
          "data": {
            "text/plain": [
              "((2438, 80, 3), (2438,))"
            ]
          },
          "metadata": {
            "tags": []
          },
          "execution_count": 72
        }
      ]
    },
    {
      "cell_type": "code",
      "metadata": {
        "id": "ihPrjQWoSry8"
      },
      "source": [
        "X_train, X_test, y_train, y_test = train_test_split(X, y, test_size = 0.3, random_state = 0, stratify = y)"
      ],
      "execution_count": 77,
      "outputs": []
    },
    {
      "cell_type": "code",
      "metadata": {
        "colab": {
          "base_uri": "https://localhost:8080/"
        },
        "id": "TaDk9tCPSv6t",
        "outputId": "5e68c1a4-7151-4157-b131-8903e66a6963"
      },
      "source": [
        "X_train.shape, X_test.shape"
      ],
      "execution_count": 78,
      "outputs": [
        {
          "output_type": "execute_result",
          "data": {
            "text/plain": [
              "((1706, 80, 3), (732, 80, 3))"
            ]
          },
          "metadata": {
            "tags": []
          },
          "execution_count": 78
        }
      ]
    },
    {
      "cell_type": "code",
      "metadata": {
        "colab": {
          "base_uri": "https://localhost:8080/"
        },
        "id": "uLpgbhxWS0q7",
        "outputId": "8f758c20-fd21-4eef-b181-04391615fbad"
      },
      "source": [
        "X_train[0].shape, X_test[0].shape"
      ],
      "execution_count": 79,
      "outputs": [
        {
          "output_type": "execute_result",
          "data": {
            "text/plain": [
              "((80, 3), (80, 3))"
            ]
          },
          "metadata": {
            "tags": []
          },
          "execution_count": 79
        }
      ]
    },
    {
      "cell_type": "code",
      "metadata": {
        "id": "TxyF7LBWTCEk"
      },
      "source": [
        "X_train = X_train.reshape(1706, 80, 3, 1)\r\n",
        "X_test = X_test.reshape(732, 80, 3, 1)"
      ],
      "execution_count": 80,
      "outputs": []
    },
    {
      "cell_type": "code",
      "metadata": {
        "colab": {
          "base_uri": "https://localhost:8080/"
        },
        "id": "_w0GiEQa7AfT",
        "outputId": "afaf729a-c357-4b81-cfc2-43764e5270d7"
      },
      "source": [
        "X_train[0].shape, X_test[0].shape"
      ],
      "execution_count": 81,
      "outputs": [
        {
          "output_type": "execute_result",
          "data": {
            "text/plain": [
              "((80, 3, 1), (80, 3, 1))"
            ]
          },
          "metadata": {
            "tags": []
          },
          "execution_count": 81
        }
      ]
    },
    {
      "cell_type": "code",
      "metadata": {
        "id": "GVrwJhHpTcra"
      },
      "source": [
        "model = Sequential()\r\n",
        "model.add(Conv2D(16, (2, 2), activation = 'relu', input_shape = X_train[0].shape))\r\n",
        "model.add(Dropout(0.1))\r\n",
        "\r\n",
        "model.add(Conv2D(32, (2, 2), activation='relu'))\r\n",
        "model.add(Dropout(0.2))\r\n",
        "\r\n",
        "model.add(Flatten())\r\n",
        "\r\n",
        "model.add(Dense(64, activation = 'relu'))\r\n",
        "model.add(Dropout(0.5))\r\n",
        "\r\n",
        "model.add(Dense(11, activation='softmax')) #Here 11 represents the number of labels"
      ],
      "execution_count": 85,
      "outputs": []
    },
    {
      "cell_type": "code",
      "metadata": {
        "id": "UWgckVbvTizX"
      },
      "source": [
        "model.compile(optimizer=Adam(learning_rate = 0.001), loss = 'sparse_categorical_crossentropy', metrics = ['accuracy'])"
      ],
      "execution_count": 86,
      "outputs": []
    },
    {
      "cell_type": "code",
      "metadata": {
        "colab": {
          "base_uri": "https://localhost:8080/"
        },
        "id": "I7yIKYLOTn9S",
        "outputId": "f81d97d8-ec63-4cf3-c9d3-9b8ceb224093"
      },
      "source": [
        "history = model.fit(X_train, y_train, epochs = 10, validation_data= (X_test, y_test), verbose=1)"
      ],
      "execution_count": 87,
      "outputs": [
        {
          "output_type": "stream",
          "text": [
            "Epoch 1/10\n",
            "54/54 [==============================] - 2s 21ms/step - loss: 2.1518 - accuracy: 0.2159 - val_loss: 1.4606 - val_accuracy: 0.5246\n",
            "Epoch 2/10\n",
            "54/54 [==============================] - 1s 18ms/step - loss: 1.5213 - accuracy: 0.4174 - val_loss: 1.1773 - val_accuracy: 0.6202\n",
            "Epoch 3/10\n",
            "54/54 [==============================] - 1s 18ms/step - loss: 1.3056 - accuracy: 0.5167 - val_loss: 1.0604 - val_accuracy: 0.6243\n",
            "Epoch 4/10\n",
            "54/54 [==============================] - 1s 19ms/step - loss: 1.1367 - accuracy: 0.5781 - val_loss: 0.9929 - val_accuracy: 0.6516\n",
            "Epoch 5/10\n",
            "54/54 [==============================] - 1s 18ms/step - loss: 1.0811 - accuracy: 0.5887 - val_loss: 0.9607 - val_accuracy: 0.6544\n",
            "Epoch 6/10\n",
            "54/54 [==============================] - 1s 19ms/step - loss: 0.9693 - accuracy: 0.6468 - val_loss: 0.9146 - val_accuracy: 0.6708\n",
            "Epoch 7/10\n",
            "54/54 [==============================] - 1s 19ms/step - loss: 0.9821 - accuracy: 0.6255 - val_loss: 0.8950 - val_accuracy: 0.6612\n",
            "Epoch 8/10\n",
            "54/54 [==============================] - 1s 19ms/step - loss: 0.8838 - accuracy: 0.6810 - val_loss: 0.8806 - val_accuracy: 0.6694\n",
            "Epoch 9/10\n",
            "54/54 [==============================] - 1s 19ms/step - loss: 0.8280 - accuracy: 0.6903 - val_loss: 0.8751 - val_accuracy: 0.6667\n",
            "Epoch 10/10\n",
            "54/54 [==============================] - 1s 18ms/step - loss: 0.8040 - accuracy: 0.7070 - val_loss: 0.8518 - val_accuracy: 0.6885\n"
          ],
          "name": "stdout"
        }
      ]
    },
    {
      "cell_type": "code",
      "metadata": {
        "id": "hJw8-UmOULQA"
      },
      "source": [
        "def plot_learningCurve(history, epochs):\r\n",
        "  # Plot training & validation accuracy values\r\n",
        "  epoch_range = range(1, epochs+1)\r\n",
        "  plt.plot(epoch_range, history.history['accuracy'])\r\n",
        "  plt.plot(epoch_range, history.history['val_accuracy'])\r\n",
        "  plt.title('Model accuracy')\r\n",
        "  plt.ylabel('Accuracy')\r\n",
        "  plt.xlabel('Epoch')\r\n",
        "  plt.legend(['Train', 'Val'], loc='upper left')\r\n",
        "  plt.show()\r\n",
        "\r\n",
        "  # Plot training & validation loss values\r\n",
        "  plt.plot(epoch_range, history.history['loss'])\r\n",
        "  plt.plot(epoch_range, history.history['val_loss'])\r\n",
        "  plt.title('Model loss')\r\n",
        "  plt.ylabel('Loss')\r\n",
        "  plt.xlabel('Epoch')\r\n",
        "  plt.legend(['Train', 'Val'], loc='upper left')\r\n",
        "  plt.show()"
      ],
      "execution_count": 89,
      "outputs": []
    },
    {
      "cell_type": "code",
      "metadata": {
        "colab": {
          "base_uri": "https://localhost:8080/",
          "height": 573
        },
        "id": "8HjzNGB8UTnG",
        "outputId": "54e67e59-e585-40d6-fbea-07b9159b6f8b"
      },
      "source": [
        "plot_learningCurve(history, 10)"
      ],
      "execution_count": 90,
      "outputs": [
        {
          "output_type": "display_data",
          "data": {
            "image/png": "[encoded data removed]",
            "text/plain": [
              "<Figure size 432x288 with 1 Axes>"
            ]
          },
          "metadata": {
            "tags": [],
            "needs_background": "light"
          }
        },
        {
          "output_type": "display_data",
          "data": {
            "image/png": "[encoded data removed]",
            "text/plain": [
              "<Figure size 432x288 with 1 Axes>"
            ]
          },
          "metadata": {
            "tags": [],
            "needs_background": "light"
          }
        }
      ]
    },
    {
      "cell_type": "code",
      "metadata": {
        "id": "GIYbH5_qUdLq"
      },
      "source": [
        "from mlxtend.plotting import plot_confusion_matrix \r\n",
        "from sklearn.metrics import confusion_matrix\r\n",
        "import seaborn as sns"
      ],
      "execution_count": 91,
      "outputs": []
    },
    {
      "cell_type": "code",
      "metadata": {
        "id": "uCX_zFCGUfFW"
      },
      "source": [
        "y_pred= np.argmax(model.predict(X_test), axis=-1)"
      ],
      "execution_count": 92,
      "outputs": []
    },
    {
      "cell_type": "code",
      "metadata": {
        "id": "19YboDbyHFR3",
        "colab": {
          "base_uri": "https://localhost:8080/",
          "height": 884
        },
        "outputId": "fdbb1446-edbd-464b-d949-1defa390512a"
      },
      "source": [
        "cm = tf.math.confusion_matrix(y_test, y_pred)\r\n",
        "axis_labels = ['Falling_Forward_Using_Hands','Falling_Forward_Using_Knees','Falling_Backwards','Falling_Sideways','Falling_Sitting_in_Empty_Chair','Walking','Standing','Sitting','Picking_Up_an_Object','Jumping','Laying']\r\n",
        "figure = plt.figure(figsize=(12,12))\r\n",
        "sns.heatmap(cm, annot=True, cmap=plt.cm.Blues, xticklabels=axis_labels, yticklabels=axis_labels)\r\n",
        "plt.ylim(len(cm),0,0)\r\n",
        "plt.tight_layout()\r\n",
        "plt.ylabel('True label')\r\n",
        "plt.xlabel('predicted label')\r\n",
        "plt.show()\r\n"
      ],
      "execution_count": 96,
      "outputs": [
        {
          "output_type": "display_data",
          "data": {
            "image/png": "[encoded data removed]",
            "text/plain": [
              "<Figure size 864x864 with 2 Axes>"
            ]
          },
          "metadata": {
            "tags": [],
            "needs_background": "light"
          }
        }
      ]
    },
    {
      "cell_type": "code",
      "metadata": {
        "id": "j4eAjfzQUooy"
      },
      "source": [
        ""
      ],
      "execution_count": null,
      "outputs": []
    }
  ]
}