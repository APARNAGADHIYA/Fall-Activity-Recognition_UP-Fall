{
  "nbformat": 4,
  "nbformat_minor": 0,
  "metadata": {
    "colab": {
      "name": "MLP_Model.ipynb",
      "provenance": [],
      "collapsed_sections": [],
      "mount_file_id": "1lN-aYnbdbg6udl4p8yTVw0YuEqaCmlKm",
      "authorship_tag": "ABX9TyN6fCZRBCLmqsuf8VSyuau3",
      "include_colab_link": true
    },
    "kernelspec": {
      "name": "python3",
      "display_name": "Python 3"
    },
    "language_info": {
      "name": "python"
    }
  },
  "cells": [
    {
      "cell_type": "markdown",
      "metadata": {
        "id": "view-in-github",
        "colab_type": "text"
      },
      "source": [
        "<a href=\"https://colab.research.google.com/github/APARNAGADHIYA/Fall-Activity-Recognition_UP-Fall/blob/main/MLP_Model.ipynb\" target=\"_parent\"><img src=\"https://colab.research.google.com/assets/colab-badge.svg\" alt=\"Open In Colab\"/></a>"
      ]
    },
    {
      "cell_type": "code",
      "metadata": {
        "colab": {
          "base_uri": "https://localhost:8080/"
        },
        "id": "eiChOC1Tbp4U",
        "outputId": "a52e4760-3492-46b1-dd42-5e0c20f44a11"
      },
      "source": [
        "import tensorflow as tf\n",
        "from tensorflow.keras import Sequential\n",
        "from tensorflow.keras.layers import Flatten, Dense, Dropout, BatchNormalization\n",
        "from tensorflow.keras.layers import Conv2D, MaxPool2D\n",
        "from tensorflow.keras.optimizers import Adam\n",
        "print(tf.__version__)"
      ],
      "execution_count": null,
      "outputs": [
        {
          "output_type": "stream",
          "text": [
            "2.4.1\n"
          ],
          "name": "stdout"
        }
      ]
    },
    {
      "cell_type": "code",
      "metadata": {
        "id": "DD1xpYRebycj"
      },
      "source": [
        "import pandas as pd\n",
        "import numpy as np\n",
        "import matplotlib.pyplot as plt\n",
        "import seaborn as sns\n",
        "from sklearn.model_selection import train_test_split\n",
        "from sklearn.preprocessing import StandardScaler, LabelEncoder"
      ],
      "execution_count": null,
      "outputs": []
    },
    {
      "cell_type": "code",
      "metadata": {
        "id": "mdlcKSTkb62g"
      },
      "source": [
        "dataset=pd.read_csv(\"/content/drive/MyDrive/Fall_Detection_Using_Human_Skeleton_Features/CSVFiles/Merged.csv\", low_memory= False)"
      ],
      "execution_count": null,
      "outputs": []
    },
    {
      "cell_type": "code",
      "metadata": {
        "colab": {
          "base_uri": "https://localhost:8080/"
        },
        "id": "sPSK8p2OcqJ6",
        "outputId": "baaada66-a8f9-4b53-8c49-c83b85dc0987"
      },
      "source": [
        "dataset.shape"
      ],
      "execution_count": null,
      "outputs": [
        {
          "output_type": "execute_result",
          "data": {
            "text/plain": [
              "(16880, 38)"
            ]
          },
          "metadata": {
            "tags": []
          },
          "execution_count": 4
        }
      ]
    },
    {
      "cell_type": "code",
      "metadata": {
        "colab": {
          "base_uri": "https://localhost:8080/"
        },
        "id": "Ye8OX80ncz8r",
        "outputId": "bcf03a12-b5c5-4333-aabf-d6e4d4e2646f"
      },
      "source": [
        "dataset.info()"
      ],
      "execution_count": null,
      "outputs": [
        {
          "output_type": "stream",
          "text": [
            "<class 'pandas.core.frame.DataFrame'>\n",
            "RangeIndex: 16880 entries, 0 to 16879\n",
            "Data columns (total 38 columns):\n",
            " #   Column        Non-Null Count  Dtype  \n",
            "---  ------        --------------  -----  \n",
            " 0   Unnamed: 0    16880 non-null  int64  \n",
            " 1   Unnamed: 0.1  16880 non-null  int64  \n",
            " 2   Nose_X        16880 non-null  float64\n",
            " 3   Nose_Y        16880 non-null  float64\n",
            " 4   LEye_X        16880 non-null  float64\n",
            " 5   LEye_Y        16880 non-null  float64\n",
            " 6   REye_X        16880 non-null  float64\n",
            " 7   REye_Y        16880 non-null  float64\n",
            " 8   LEar_X        16880 non-null  float64\n",
            " 9   LEar_Y        16880 non-null  float64\n",
            " 10  REar_X        16880 non-null  float64\n",
            " 11  REar_Y        16880 non-null  float64\n",
            " 12  LShoulder_X   16880 non-null  float64\n",
            " 13  LShoulder_Y   16880 non-null  float64\n",
            " 14  RShoulder_X   16880 non-null  float64\n",
            " 15  RShoulder_Y   16880 non-null  float64\n",
            " 16  LElbow_X      16880 non-null  float64\n",
            " 17  LElbow_Y      16880 non-null  float64\n",
            " 18  RElbow_X      16880 non-null  float64\n",
            " 19  RElbow_Y      16880 non-null  float64\n",
            " 20  LWrist_X      16880 non-null  float64\n",
            " 21  LWrist_Y      16880 non-null  float64\n",
            " 22  RWrist_X      16880 non-null  float64\n",
            " 23  RWrist_Y      16880 non-null  float64\n",
            " 24  LHip_X        16880 non-null  float64\n",
            " 25  LHip_Y        16880 non-null  float64\n",
            " 26  RHip_X        16880 non-null  float64\n",
            " 27  RHip_Y        16880 non-null  float64\n",
            " 28  LKnee_X       16880 non-null  float64\n",
            " 29  LKnee_Y       16880 non-null  float64\n",
            " 30  Rknee_X       16880 non-null  float64\n",
            " 31  Rknee_Y       16880 non-null  float64\n",
            " 32  LAnkle_X      16880 non-null  float64\n",
            " 33  LAnkle_Y      16880 non-null  float64\n",
            " 34  RAnkle_X      16880 non-null  float64\n",
            " 35  RAnkle_Y      16880 non-null  float64\n",
            " 36  Score         16880 non-null  float64\n",
            " 37  Activity      16880 non-null  int64  \n",
            "dtypes: float64(35), int64(3)\n",
            "memory usage: 4.9 MB\n"
          ],
          "name": "stdout"
        }
      ]
    },
    {
      "cell_type": "code",
      "metadata": {
        "colab": {
          "base_uri": "https://localhost:8080/"
        },
        "id": "X9iwf55Zc9eH",
        "outputId": "76cb2c2e-c47e-48ad-81bf-25173cbc701e"
      },
      "source": [
        "dataset['Activity'].value_counts()"
      ],
      "execution_count": null,
      "outputs": [
        {
          "output_type": "execute_result",
          "data": {
            "text/plain": [
              "1    3480\n",
              "9    3403\n",
              "4    2609\n",
              "5    2547\n",
              "3    2505\n",
              "2    2336\n",
              "Name: Activity, dtype: int64"
            ]
          },
          "metadata": {
            "tags": []
          },
          "execution_count": 6
        }
      ]
    },
    {
      "cell_type": "code",
      "metadata": {
        "colab": {
          "base_uri": "https://localhost:8080/"
        },
        "id": "ymt0LL5jdcd2",
        "outputId": "e271c6ed-e266-42cf-b7c4-50d1d8d76b11"
      },
      "source": [
        "exp=pd.read_csv(\"/content/drive/MyDrive/Fall_Detection_Using_Human_Skeleton_Features/CSVFiles/Merged.csv\", usecols=[\"Nose_X\",\"Nose_Y\",\"LEye_X\",\"LEye_Y\",\"REye_X\",\"REye_Y\",\"LEar_X\",\"LEar_Y\",\"REar_X\",\"REar_Y\",\n",
        "         \"LShoulder_X\",\"LShoulder_Y\",\"RShoulder_X\",\"RShoulder_Y\",\"LElbow_X\",\"LElbow_Y\",\"RElbow_X\",\"RElbow_Y\",\n",
        "         \"LWrist_X\",\"LWrist_Y\",\"RWrist_X\",\"RWrist_Y\",\"LHip_X\",\"LHip_Y\",\"RHip_X\",\"RHip_Y\",\"LKnee_X\",\"LKnee_Y\",\n",
        "         \"Rknee_X\",\"Rknee_Y\",\"LAnkle_X\",\"LAnkle_Y\",\"RAnkle_X\",\"RAnkle_Y\",'Score','Activity'])\n",
        "print(exp)"
      ],
      "execution_count": null,
      "outputs": [
        {
          "output_type": "stream",
          "text": [
            "           Nose_X      Nose_Y      LEye_X  ...    RAnkle_Y     Score  Activity\n",
            "0      418.167908  212.008392  423.865479  ...  462.701935  3.071887         1\n",
            "1      419.789581  214.127029  425.524384  ...  463.591003  3.090761         1\n",
            "2      417.496674  212.123474  423.200043  ...  463.070984  3.083132         1\n",
            "3      416.467834  211.306610  422.378326  ...  462.503693  3.042056         1\n",
            "4      417.535492  210.987717  420.436218  ...  463.350586  3.021970         1\n",
            "...           ...         ...         ...  ...         ...       ...       ...\n",
            "16875  236.192459  165.997910  235.464157  ...  239.920486  1.761851         9\n",
            "16876  175.626114  197.964188  178.481979  ...  437.856934  3.103301         9\n",
            "16877  236.625092  166.702301  234.447464  ...  239.652954  1.731628         9\n",
            "16878  176.308823  197.406448  179.172104  ...  437.922272  3.112766         9\n",
            "16879  236.532440  166.294113  235.753250  ...  243.044205  1.898677         9\n",
            "\n",
            "[16880 rows x 36 columns]\n"
          ],
          "name": "stdout"
        }
      ]
    },
    {
      "cell_type": "code",
      "metadata": {
        "colab": {
          "base_uri": "https://localhost:8080/"
        },
        "id": "S10CpZjyeD2j",
        "outputId": "13dd0646-32e8-445d-f9aa-f3ad18f293fe"
      },
      "source": [
        "exp.shape"
      ],
      "execution_count": null,
      "outputs": [
        {
          "output_type": "execute_result",
          "data": {
            "text/plain": [
              "(16880, 36)"
            ]
          },
          "metadata": {
            "tags": []
          },
          "execution_count": 8
        }
      ]
    },
    {
      "cell_type": "code",
      "metadata": {
        "colab": {
          "base_uri": "https://localhost:8080/",
          "height": 215
        },
        "id": "3B5xfWbQeJR5",
        "outputId": "b51a7b9c-2428-4ab8-82e1-cc1e3f54865c"
      },
      "source": [
        "exp.head()"
      ],
      "execution_count": null,
      "outputs": [
        {
          "output_type": "execute_result",
          "data": {
            "text/html": [
              "<div>\n",
              "<style scoped>\n",
              "    .dataframe tbody tr th:only-of-type {\n",
              "        vertical-align: middle;\n",
              "    }\n",
              "\n",
              "    .dataframe tbody tr th {\n",
              "        vertical-align: top;\n",
              "    }\n",
              "\n",
              "    .dataframe thead th {\n",
              "        text-align: right;\n",
              "    }\n",
              "</style>\n",
              "<table border=\"1\" class=\"dataframe\">\n",
              "  <thead>\n",
              "    <tr style=\"text-align: right;\">\n",
              "      <th></th>\n",
              "      <th>Nose_X</th>\n",
              "      <th>Nose_Y</th>\n",
              "      <th>LEye_X</th>\n",
              "      <th>LEye_Y</th>\n",
              "      <th>REye_X</th>\n",
              "      <th>REye_Y</th>\n",
              "      <th>LEar_X</th>\n",
              "      <th>LEar_Y</th>\n",
              "      <th>REar_X</th>\n",
              "      <th>REar_Y</th>\n",
              "      <th>LShoulder_X</th>\n",
              "      <th>LShoulder_Y</th>\n",
              "      <th>RShoulder_X</th>\n",
              "      <th>RShoulder_Y</th>\n",
              "      <th>LElbow_X</th>\n",
              "      <th>LElbow_Y</th>\n",
              "      <th>RElbow_X</th>\n",
              "      <th>RElbow_Y</th>\n",
              "      <th>LWrist_X</th>\n",
              "      <th>LWrist_Y</th>\n",
              "      <th>RWrist_X</th>\n",
              "      <th>RWrist_Y</th>\n",
              "      <th>LHip_X</th>\n",
              "      <th>LHip_Y</th>\n",
              "      <th>RHip_X</th>\n",
              "      <th>RHip_Y</th>\n",
              "      <th>LKnee_X</th>\n",
              "      <th>LKnee_Y</th>\n",
              "      <th>Rknee_X</th>\n",
              "      <th>Rknee_Y</th>\n",
              "      <th>LAnkle_X</th>\n",
              "      <th>LAnkle_Y</th>\n",
              "      <th>RAnkle_X</th>\n",
              "      <th>RAnkle_Y</th>\n",
              "      <th>Score</th>\n",
              "      <th>Activity</th>\n",
              "    </tr>\n",
              "  </thead>\n",
              "  <tbody>\n",
              "    <tr>\n",
              "      <th>0</th>\n",
              "      <td>418.167908</td>\n",
              "      <td>212.008392</td>\n",
              "      <td>423.865479</td>\n",
              "      <td>206.310822</td>\n",
              "      <td>418.167908</td>\n",
              "      <td>206.310822</td>\n",
              "      <td>446.655792</td>\n",
              "      <td>206.310822</td>\n",
              "      <td>443.807007</td>\n",
              "      <td>206.310822</td>\n",
              "      <td>469.446136</td>\n",
              "      <td>243.345093</td>\n",
              "      <td>432.411865</td>\n",
              "      <td>237.647507</td>\n",
              "      <td>463.748535</td>\n",
              "      <td>308.867249</td>\n",
              "      <td>421.016693</td>\n",
              "      <td>286.076935</td>\n",
              "      <td>423.865479</td>\n",
              "      <td>343.052734</td>\n",
              "      <td>406.772736</td>\n",
              "      <td>328.808807</td>\n",
              "      <td>463.748535</td>\n",
              "      <td>354.447906</td>\n",
              "      <td>435.260651</td>\n",
              "      <td>348.750336</td>\n",
              "      <td>463.748535</td>\n",
              "      <td>419.970093</td>\n",
              "      <td>443.807007</td>\n",
              "      <td>414.272491</td>\n",
              "      <td>466.597351</td>\n",
              "      <td>471.248291</td>\n",
              "      <td>446.655792</td>\n",
              "      <td>462.701935</td>\n",
              "      <td>3.071887</td>\n",
              "      <td>1</td>\n",
              "    </tr>\n",
              "    <tr>\n",
              "      <th>1</th>\n",
              "      <td>419.789581</td>\n",
              "      <td>214.127029</td>\n",
              "      <td>425.524384</td>\n",
              "      <td>205.524811</td>\n",
              "      <td>416.922180</td>\n",
              "      <td>205.524811</td>\n",
              "      <td>445.596191</td>\n",
              "      <td>205.524811</td>\n",
              "      <td>442.728790</td>\n",
              "      <td>205.524811</td>\n",
              "      <td>471.402832</td>\n",
              "      <td>245.668442</td>\n",
              "      <td>434.126587</td>\n",
              "      <td>237.066238</td>\n",
              "      <td>465.668030</td>\n",
              "      <td>305.883881</td>\n",
              "      <td>422.656982</td>\n",
              "      <td>285.812073</td>\n",
              "      <td>442.728790</td>\n",
              "      <td>357.497131</td>\n",
              "      <td>411.187378</td>\n",
              "      <td>325.955688</td>\n",
              "      <td>465.668030</td>\n",
              "      <td>351.762329</td>\n",
              "      <td>434.126587</td>\n",
              "      <td>346.027527</td>\n",
              "      <td>462.800629</td>\n",
              "      <td>420.579987</td>\n",
              "      <td>442.728790</td>\n",
              "      <td>414.845154</td>\n",
              "      <td>465.668030</td>\n",
              "      <td>472.193207</td>\n",
              "      <td>448.463593</td>\n",
              "      <td>463.591003</td>\n",
              "      <td>3.090761</td>\n",
              "      <td>1</td>\n",
              "    </tr>\n",
              "    <tr>\n",
              "      <th>2</th>\n",
              "      <td>417.496674</td>\n",
              "      <td>212.123474</td>\n",
              "      <td>423.200043</td>\n",
              "      <td>206.420120</td>\n",
              "      <td>417.496674</td>\n",
              "      <td>206.420120</td>\n",
              "      <td>446.013458</td>\n",
              "      <td>206.420120</td>\n",
              "      <td>440.310089</td>\n",
              "      <td>206.420120</td>\n",
              "      <td>471.678528</td>\n",
              "      <td>246.343582</td>\n",
              "      <td>434.606750</td>\n",
              "      <td>237.788559</td>\n",
              "      <td>465.975189</td>\n",
              "      <td>306.228790</td>\n",
              "      <td>423.200043</td>\n",
              "      <td>283.415375</td>\n",
              "      <td>454.568481</td>\n",
              "      <td>363.262329</td>\n",
              "      <td>414.645020</td>\n",
              "      <td>323.338837</td>\n",
              "      <td>465.975189</td>\n",
              "      <td>351.855621</td>\n",
              "      <td>434.606750</td>\n",
              "      <td>346.152252</td>\n",
              "      <td>463.123505</td>\n",
              "      <td>420.295837</td>\n",
              "      <td>443.161774</td>\n",
              "      <td>414.592499</td>\n",
              "      <td>465.975189</td>\n",
              "      <td>471.626007</td>\n",
              "      <td>448.865112</td>\n",
              "      <td>463.070984</td>\n",
              "      <td>3.083132</td>\n",
              "      <td>1</td>\n",
              "    </tr>\n",
              "    <tr>\n",
              "      <th>3</th>\n",
              "      <td>416.467834</td>\n",
              "      <td>211.306610</td>\n",
              "      <td>422.378326</td>\n",
              "      <td>205.396088</td>\n",
              "      <td>416.467834</td>\n",
              "      <td>205.396088</td>\n",
              "      <td>446.020416</td>\n",
              "      <td>205.396088</td>\n",
              "      <td>440.109894</td>\n",
              "      <td>205.396088</td>\n",
              "      <td>469.662506</td>\n",
              "      <td>246.769730</td>\n",
              "      <td>434.199371</td>\n",
              "      <td>237.903946</td>\n",
              "      <td>472.617767</td>\n",
              "      <td>308.830170</td>\n",
              "      <td>434.199371</td>\n",
              "      <td>288.143372</td>\n",
              "      <td>469.662506</td>\n",
              "      <td>362.024841</td>\n",
              "      <td>419.423065</td>\n",
              "      <td>320.651215</td>\n",
              "      <td>460.796722</td>\n",
              "      <td>353.159088</td>\n",
              "      <td>434.199371</td>\n",
              "      <td>347.248566</td>\n",
              "      <td>463.751984</td>\n",
              "      <td>424.085297</td>\n",
              "      <td>443.065155</td>\n",
              "      <td>412.264282</td>\n",
              "      <td>466.707245</td>\n",
              "      <td>471.369446</td>\n",
              "      <td>448.975677</td>\n",
              "      <td>462.503693</td>\n",
              "      <td>3.042056</td>\n",
              "      <td>1</td>\n",
              "    </tr>\n",
              "    <tr>\n",
              "      <th>4</th>\n",
              "      <td>417.535492</td>\n",
              "      <td>210.987717</td>\n",
              "      <td>420.436218</td>\n",
              "      <td>205.186279</td>\n",
              "      <td>414.634766</td>\n",
              "      <td>205.186279</td>\n",
              "      <td>443.641998</td>\n",
              "      <td>208.086990</td>\n",
              "      <td>440.741272</td>\n",
              "      <td>208.086990</td>\n",
              "      <td>469.748505</td>\n",
              "      <td>245.796387</td>\n",
              "      <td>434.939819</td>\n",
              "      <td>237.094223</td>\n",
              "      <td>481.351379</td>\n",
              "      <td>306.711548</td>\n",
              "      <td>437.840546</td>\n",
              "      <td>289.307220</td>\n",
              "      <td>481.351379</td>\n",
              "      <td>361.825287</td>\n",
              "      <td>423.336945</td>\n",
              "      <td>324.115906</td>\n",
              "      <td>458.145599</td>\n",
              "      <td>353.123108</td>\n",
              "      <td>432.039124</td>\n",
              "      <td>347.321686</td>\n",
              "      <td>463.947052</td>\n",
              "      <td>422.740448</td>\n",
              "      <td>443.641998</td>\n",
              "      <td>414.038300</td>\n",
              "      <td>466.847778</td>\n",
              "      <td>472.052734</td>\n",
              "      <td>446.542725</td>\n",
              "      <td>463.350586</td>\n",
              "      <td>3.021970</td>\n",
              "      <td>1</td>\n",
              "    </tr>\n",
              "  </tbody>\n",
              "</table>\n",
              "</div>"
            ],
            "text/plain": [
              "       Nose_X      Nose_Y      LEye_X  ...    RAnkle_Y     Score  Activity\n",
              "0  418.167908  212.008392  423.865479  ...  462.701935  3.071887         1\n",
              "1  419.789581  214.127029  425.524384  ...  463.591003  3.090761         1\n",
              "2  417.496674  212.123474  423.200043  ...  463.070984  3.083132         1\n",
              "3  416.467834  211.306610  422.378326  ...  462.503693  3.042056         1\n",
              "4  417.535492  210.987717  420.436218  ...  463.350586  3.021970         1\n",
              "\n",
              "[5 rows x 36 columns]"
            ]
          },
          "metadata": {
            "tags": []
          },
          "execution_count": 9
        }
      ]
    },
    {
      "cell_type": "code",
      "metadata": {
        "colab": {
          "base_uri": "https://localhost:8080/"
        },
        "id": "RHTTpHCmeTlT",
        "outputId": "e111c3c9-ca3c-4110-ccda-7a1ddd74beeb"
      },
      "source": [
        "exp['Activity'].value_counts()"
      ],
      "execution_count": null,
      "outputs": [
        {
          "output_type": "execute_result",
          "data": {
            "text/plain": [
              "1    3480\n",
              "9    3403\n",
              "4    2609\n",
              "5    2547\n",
              "3    2505\n",
              "2    2336\n",
              "Name: Activity, dtype: int64"
            ]
          },
          "metadata": {
            "tags": []
          },
          "execution_count": 10
        }
      ]
    },
    {
      "cell_type": "code",
      "metadata": {
        "colab": {
          "base_uri": "https://localhost:8080/"
        },
        "id": "wpIPYw8pevgC",
        "outputId": "4379a3bc-ef3f-4be4-de6a-842295495896"
      },
      "source": [
        "activities = exp['Activity'].value_counts().index\n",
        "activities"
      ],
      "execution_count": null,
      "outputs": [
        {
          "output_type": "execute_result",
          "data": {
            "text/plain": [
              "Int64Index([1, 9, 4, 5, 3, 2], dtype='int64')"
            ]
          },
          "metadata": {
            "tags": []
          },
          "execution_count": 11
        }
      ]
    },
    {
      "cell_type": "code",
      "metadata": {
        "id": "MXtH15oie0p-"
      },
      "source": [
        "Falling_Sideways= exp[exp['Activity']== 4].head(2336).copy()\n",
        "Falling_Backwards= exp[exp['Activity']== 3].head(2336).copy()\n",
        "Falling_Forward_Using_Hands= exp[exp['Activity']== 1].head(2336).copy()\n",
        "Falling_Forward_Using_Knees = exp[exp['Activity']== 2].copy()\n",
        "Falling_Sitting_in_Empty_Chair = exp[exp['Activity']== 5].head(2336).copy()\n",
        "Picking_Up_an_Object= exp[exp['Activity']== 9].head(2336).copy()"
      ],
      "execution_count": null,
      "outputs": []
    },
    {
      "cell_type": "code",
      "metadata": {
        "colab": {
          "base_uri": "https://localhost:8080/"
        },
        "id": "pvW8CIxhfW1z",
        "outputId": "0b5f0b82-b734-4866-ab94-8b70cfe7b73c"
      },
      "source": [
        "balanced_data = pd.DataFrame()\n",
        "balanced_data = balanced_data.append([Falling_Forward_Using_Hands,Falling_Forward_Using_Knees,Falling_Backwards,Falling_Sideways,Falling_Sitting_in_Empty_Chair,Picking_Up_an_Object])\n",
        "balanced_data.shape"
      ],
      "execution_count": null,
      "outputs": [
        {
          "output_type": "execute_result",
          "data": {
            "text/plain": [
              "(14016, 36)"
            ]
          },
          "metadata": {
            "tags": []
          },
          "execution_count": 13
        }
      ]
    },
    {
      "cell_type": "code",
      "metadata": {
        "colab": {
          "base_uri": "https://localhost:8080/"
        },
        "id": "Xyy7vRoSfono",
        "outputId": "2f8def3a-a9cf-4a0d-82a3-c73bffa21b84"
      },
      "source": [
        "balanced_data['Activity'].value_counts()"
      ],
      "execution_count": null,
      "outputs": [
        {
          "output_type": "execute_result",
          "data": {
            "text/plain": [
              "5    2336\n",
              "4    2336\n",
              "3    2336\n",
              "2    2336\n",
              "9    2336\n",
              "1    2336\n",
              "Name: Activity, dtype: int64"
            ]
          },
          "metadata": {
            "tags": []
          },
          "execution_count": 14
        }
      ]
    },
    {
      "cell_type": "code",
      "metadata": {
        "colab": {
          "base_uri": "https://localhost:8080/",
          "height": 215
        },
        "id": "oSVUc7jSftUA",
        "outputId": "a2825b5d-9d61-4d2d-fb1e-0d6b74aefb36"
      },
      "source": [
        "balanced_data.head()"
      ],
      "execution_count": null,
      "outputs": [
        {
          "output_type": "execute_result",
          "data": {
            "text/html": [
              "<div>\n",
              "<style scoped>\n",
              "    .dataframe tbody tr th:only-of-type {\n",
              "        vertical-align: middle;\n",
              "    }\n",
              "\n",
              "    .dataframe tbody tr th {\n",
              "        vertical-align: top;\n",
              "    }\n",
              "\n",
              "    .dataframe thead th {\n",
              "        text-align: right;\n",
              "    }\n",
              "</style>\n",
              "<table border=\"1\" class=\"dataframe\">\n",
              "  <thead>\n",
              "    <tr style=\"text-align: right;\">\n",
              "      <th></th>\n",
              "      <th>Nose_X</th>\n",
              "      <th>Nose_Y</th>\n",
              "      <th>LEye_X</th>\n",
              "      <th>LEye_Y</th>\n",
              "      <th>REye_X</th>\n",
              "      <th>REye_Y</th>\n",
              "      <th>LEar_X</th>\n",
              "      <th>LEar_Y</th>\n",
              "      <th>REar_X</th>\n",
              "      <th>REar_Y</th>\n",
              "      <th>LShoulder_X</th>\n",
              "      <th>LShoulder_Y</th>\n",
              "      <th>RShoulder_X</th>\n",
              "      <th>RShoulder_Y</th>\n",
              "      <th>LElbow_X</th>\n",
              "      <th>LElbow_Y</th>\n",
              "      <th>RElbow_X</th>\n",
              "      <th>RElbow_Y</th>\n",
              "      <th>LWrist_X</th>\n",
              "      <th>LWrist_Y</th>\n",
              "      <th>RWrist_X</th>\n",
              "      <th>RWrist_Y</th>\n",
              "      <th>LHip_X</th>\n",
              "      <th>LHip_Y</th>\n",
              "      <th>RHip_X</th>\n",
              "      <th>RHip_Y</th>\n",
              "      <th>LKnee_X</th>\n",
              "      <th>LKnee_Y</th>\n",
              "      <th>Rknee_X</th>\n",
              "      <th>Rknee_Y</th>\n",
              "      <th>LAnkle_X</th>\n",
              "      <th>LAnkle_Y</th>\n",
              "      <th>RAnkle_X</th>\n",
              "      <th>RAnkle_Y</th>\n",
              "      <th>Score</th>\n",
              "      <th>Activity</th>\n",
              "    </tr>\n",
              "  </thead>\n",
              "  <tbody>\n",
              "    <tr>\n",
              "      <th>0</th>\n",
              "      <td>418.167908</td>\n",
              "      <td>212.008392</td>\n",
              "      <td>423.865479</td>\n",
              "      <td>206.310822</td>\n",
              "      <td>418.167908</td>\n",
              "      <td>206.310822</td>\n",
              "      <td>446.655792</td>\n",
              "      <td>206.310822</td>\n",
              "      <td>443.807007</td>\n",
              "      <td>206.310822</td>\n",
              "      <td>469.446136</td>\n",
              "      <td>243.345093</td>\n",
              "      <td>432.411865</td>\n",
              "      <td>237.647507</td>\n",
              "      <td>463.748535</td>\n",
              "      <td>308.867249</td>\n",
              "      <td>421.016693</td>\n",
              "      <td>286.076935</td>\n",
              "      <td>423.865479</td>\n",
              "      <td>343.052734</td>\n",
              "      <td>406.772736</td>\n",
              "      <td>328.808807</td>\n",
              "      <td>463.748535</td>\n",
              "      <td>354.447906</td>\n",
              "      <td>435.260651</td>\n",
              "      <td>348.750336</td>\n",
              "      <td>463.748535</td>\n",
              "      <td>419.970093</td>\n",
              "      <td>443.807007</td>\n",
              "      <td>414.272491</td>\n",
              "      <td>466.597351</td>\n",
              "      <td>471.248291</td>\n",
              "      <td>446.655792</td>\n",
              "      <td>462.701935</td>\n",
              "      <td>3.071887</td>\n",
              "      <td>1</td>\n",
              "    </tr>\n",
              "    <tr>\n",
              "      <th>1</th>\n",
              "      <td>419.789581</td>\n",
              "      <td>214.127029</td>\n",
              "      <td>425.524384</td>\n",
              "      <td>205.524811</td>\n",
              "      <td>416.922180</td>\n",
              "      <td>205.524811</td>\n",
              "      <td>445.596191</td>\n",
              "      <td>205.524811</td>\n",
              "      <td>442.728790</td>\n",
              "      <td>205.524811</td>\n",
              "      <td>471.402832</td>\n",
              "      <td>245.668442</td>\n",
              "      <td>434.126587</td>\n",
              "      <td>237.066238</td>\n",
              "      <td>465.668030</td>\n",
              "      <td>305.883881</td>\n",
              "      <td>422.656982</td>\n",
              "      <td>285.812073</td>\n",
              "      <td>442.728790</td>\n",
              "      <td>357.497131</td>\n",
              "      <td>411.187378</td>\n",
              "      <td>325.955688</td>\n",
              "      <td>465.668030</td>\n",
              "      <td>351.762329</td>\n",
              "      <td>434.126587</td>\n",
              "      <td>346.027527</td>\n",
              "      <td>462.800629</td>\n",
              "      <td>420.579987</td>\n",
              "      <td>442.728790</td>\n",
              "      <td>414.845154</td>\n",
              "      <td>465.668030</td>\n",
              "      <td>472.193207</td>\n",
              "      <td>448.463593</td>\n",
              "      <td>463.591003</td>\n",
              "      <td>3.090761</td>\n",
              "      <td>1</td>\n",
              "    </tr>\n",
              "    <tr>\n",
              "      <th>2</th>\n",
              "      <td>417.496674</td>\n",
              "      <td>212.123474</td>\n",
              "      <td>423.200043</td>\n",
              "      <td>206.420120</td>\n",
              "      <td>417.496674</td>\n",
              "      <td>206.420120</td>\n",
              "      <td>446.013458</td>\n",
              "      <td>206.420120</td>\n",
              "      <td>440.310089</td>\n",
              "      <td>206.420120</td>\n",
              "      <td>471.678528</td>\n",
              "      <td>246.343582</td>\n",
              "      <td>434.606750</td>\n",
              "      <td>237.788559</td>\n",
              "      <td>465.975189</td>\n",
              "      <td>306.228790</td>\n",
              "      <td>423.200043</td>\n",
              "      <td>283.415375</td>\n",
              "      <td>454.568481</td>\n",
              "      <td>363.262329</td>\n",
              "      <td>414.645020</td>\n",
              "      <td>323.338837</td>\n",
              "      <td>465.975189</td>\n",
              "      <td>351.855621</td>\n",
              "      <td>434.606750</td>\n",
              "      <td>346.152252</td>\n",
              "      <td>463.123505</td>\n",
              "      <td>420.295837</td>\n",
              "      <td>443.161774</td>\n",
              "      <td>414.592499</td>\n",
              "      <td>465.975189</td>\n",
              "      <td>471.626007</td>\n",
              "      <td>448.865112</td>\n",
              "      <td>463.070984</td>\n",
              "      <td>3.083132</td>\n",
              "      <td>1</td>\n",
              "    </tr>\n",
              "    <tr>\n",
              "      <th>3</th>\n",
              "      <td>416.467834</td>\n",
              "      <td>211.306610</td>\n",
              "      <td>422.378326</td>\n",
              "      <td>205.396088</td>\n",
              "      <td>416.467834</td>\n",
              "      <td>205.396088</td>\n",
              "      <td>446.020416</td>\n",
              "      <td>205.396088</td>\n",
              "      <td>440.109894</td>\n",
              "      <td>205.396088</td>\n",
              "      <td>469.662506</td>\n",
              "      <td>246.769730</td>\n",
              "      <td>434.199371</td>\n",
              "      <td>237.903946</td>\n",
              "      <td>472.617767</td>\n",
              "      <td>308.830170</td>\n",
              "      <td>434.199371</td>\n",
              "      <td>288.143372</td>\n",
              "      <td>469.662506</td>\n",
              "      <td>362.024841</td>\n",
              "      <td>419.423065</td>\n",
              "      <td>320.651215</td>\n",
              "      <td>460.796722</td>\n",
              "      <td>353.159088</td>\n",
              "      <td>434.199371</td>\n",
              "      <td>347.248566</td>\n",
              "      <td>463.751984</td>\n",
              "      <td>424.085297</td>\n",
              "      <td>443.065155</td>\n",
              "      <td>412.264282</td>\n",
              "      <td>466.707245</td>\n",
              "      <td>471.369446</td>\n",
              "      <td>448.975677</td>\n",
              "      <td>462.503693</td>\n",
              "      <td>3.042056</td>\n",
              "      <td>1</td>\n",
              "    </tr>\n",
              "    <tr>\n",
              "      <th>4</th>\n",
              "      <td>417.535492</td>\n",
              "      <td>210.987717</td>\n",
              "      <td>420.436218</td>\n",
              "      <td>205.186279</td>\n",
              "      <td>414.634766</td>\n",
              "      <td>205.186279</td>\n",
              "      <td>443.641998</td>\n",
              "      <td>208.086990</td>\n",
              "      <td>440.741272</td>\n",
              "      <td>208.086990</td>\n",
              "      <td>469.748505</td>\n",
              "      <td>245.796387</td>\n",
              "      <td>434.939819</td>\n",
              "      <td>237.094223</td>\n",
              "      <td>481.351379</td>\n",
              "      <td>306.711548</td>\n",
              "      <td>437.840546</td>\n",
              "      <td>289.307220</td>\n",
              "      <td>481.351379</td>\n",
              "      <td>361.825287</td>\n",
              "      <td>423.336945</td>\n",
              "      <td>324.115906</td>\n",
              "      <td>458.145599</td>\n",
              "      <td>353.123108</td>\n",
              "      <td>432.039124</td>\n",
              "      <td>347.321686</td>\n",
              "      <td>463.947052</td>\n",
              "      <td>422.740448</td>\n",
              "      <td>443.641998</td>\n",
              "      <td>414.038300</td>\n",
              "      <td>466.847778</td>\n",
              "      <td>472.052734</td>\n",
              "      <td>446.542725</td>\n",
              "      <td>463.350586</td>\n",
              "      <td>3.021970</td>\n",
              "      <td>1</td>\n",
              "    </tr>\n",
              "  </tbody>\n",
              "</table>\n",
              "</div>"
            ],
            "text/plain": [
              "       Nose_X      Nose_Y      LEye_X  ...    RAnkle_Y     Score  Activity\n",
              "0  418.167908  212.008392  423.865479  ...  462.701935  3.071887         1\n",
              "1  419.789581  214.127029  425.524384  ...  463.591003  3.090761         1\n",
              "2  417.496674  212.123474  423.200043  ...  463.070984  3.083132         1\n",
              "3  416.467834  211.306610  422.378326  ...  462.503693  3.042056         1\n",
              "4  417.535492  210.987717  420.436218  ...  463.350586  3.021970         1\n",
              "\n",
              "[5 rows x 36 columns]"
            ]
          },
          "metadata": {
            "tags": []
          },
          "execution_count": 15
        }
      ]
    },
    {
      "cell_type": "code",
      "metadata": {
        "colab": {
          "base_uri": "https://localhost:8080/",
          "height": 215
        },
        "id": "KC9kdC6qfycr",
        "outputId": "9077b0ab-9eef-4cad-903f-dbd282b803a1"
      },
      "source": [
        "from sklearn.preprocessing import LabelEncoder\n",
        "label = LabelEncoder()\n",
        "balanced_data['label'] = label.fit_transform(balanced_data['Activity'])\n",
        "balanced_data.head()"
      ],
      "execution_count": null,
      "outputs": [
        {
          "output_type": "execute_result",
          "data": {
            "text/html": [
              "<div>\n",
              "<style scoped>\n",
              "    .dataframe tbody tr th:only-of-type {\n",
              "        vertical-align: middle;\n",
              "    }\n",
              "\n",
              "    .dataframe tbody tr th {\n",
              "        vertical-align: top;\n",
              "    }\n",
              "\n",
              "    .dataframe thead th {\n",
              "        text-align: right;\n",
              "    }\n",
              "</style>\n",
              "<table border=\"1\" class=\"dataframe\">\n",
              "  <thead>\n",
              "    <tr style=\"text-align: right;\">\n",
              "      <th></th>\n",
              "      <th>Nose_X</th>\n",
              "      <th>Nose_Y</th>\n",
              "      <th>LEye_X</th>\n",
              "      <th>LEye_Y</th>\n",
              "      <th>REye_X</th>\n",
              "      <th>REye_Y</th>\n",
              "      <th>LEar_X</th>\n",
              "      <th>LEar_Y</th>\n",
              "      <th>REar_X</th>\n",
              "      <th>REar_Y</th>\n",
              "      <th>LShoulder_X</th>\n",
              "      <th>LShoulder_Y</th>\n",
              "      <th>RShoulder_X</th>\n",
              "      <th>RShoulder_Y</th>\n",
              "      <th>LElbow_X</th>\n",
              "      <th>LElbow_Y</th>\n",
              "      <th>RElbow_X</th>\n",
              "      <th>RElbow_Y</th>\n",
              "      <th>LWrist_X</th>\n",
              "      <th>LWrist_Y</th>\n",
              "      <th>RWrist_X</th>\n",
              "      <th>RWrist_Y</th>\n",
              "      <th>LHip_X</th>\n",
              "      <th>LHip_Y</th>\n",
              "      <th>RHip_X</th>\n",
              "      <th>RHip_Y</th>\n",
              "      <th>LKnee_X</th>\n",
              "      <th>LKnee_Y</th>\n",
              "      <th>Rknee_X</th>\n",
              "      <th>Rknee_Y</th>\n",
              "      <th>LAnkle_X</th>\n",
              "      <th>LAnkle_Y</th>\n",
              "      <th>RAnkle_X</th>\n",
              "      <th>RAnkle_Y</th>\n",
              "      <th>Score</th>\n",
              "      <th>Activity</th>\n",
              "      <th>label</th>\n",
              "    </tr>\n",
              "  </thead>\n",
              "  <tbody>\n",
              "    <tr>\n",
              "      <th>0</th>\n",
              "      <td>418.167908</td>\n",
              "      <td>212.008392</td>\n",
              "      <td>423.865479</td>\n",
              "      <td>206.310822</td>\n",
              "      <td>418.167908</td>\n",
              "      <td>206.310822</td>\n",
              "      <td>446.655792</td>\n",
              "      <td>206.310822</td>\n",
              "      <td>443.807007</td>\n",
              "      <td>206.310822</td>\n",
              "      <td>469.446136</td>\n",
              "      <td>243.345093</td>\n",
              "      <td>432.411865</td>\n",
              "      <td>237.647507</td>\n",
              "      <td>463.748535</td>\n",
              "      <td>308.867249</td>\n",
              "      <td>421.016693</td>\n",
              "      <td>286.076935</td>\n",
              "      <td>423.865479</td>\n",
              "      <td>343.052734</td>\n",
              "      <td>406.772736</td>\n",
              "      <td>328.808807</td>\n",
              "      <td>463.748535</td>\n",
              "      <td>354.447906</td>\n",
              "      <td>435.260651</td>\n",
              "      <td>348.750336</td>\n",
              "      <td>463.748535</td>\n",
              "      <td>419.970093</td>\n",
              "      <td>443.807007</td>\n",
              "      <td>414.272491</td>\n",
              "      <td>466.597351</td>\n",
              "      <td>471.248291</td>\n",
              "      <td>446.655792</td>\n",
              "      <td>462.701935</td>\n",
              "      <td>3.071887</td>\n",
              "      <td>1</td>\n",
              "      <td>0</td>\n",
              "    </tr>\n",
              "    <tr>\n",
              "      <th>1</th>\n",
              "      <td>419.789581</td>\n",
              "      <td>214.127029</td>\n",
              "      <td>425.524384</td>\n",
              "      <td>205.524811</td>\n",
              "      <td>416.922180</td>\n",
              "      <td>205.524811</td>\n",
              "      <td>445.596191</td>\n",
              "      <td>205.524811</td>\n",
              "      <td>442.728790</td>\n",
              "      <td>205.524811</td>\n",
              "      <td>471.402832</td>\n",
              "      <td>245.668442</td>\n",
              "      <td>434.126587</td>\n",
              "      <td>237.066238</td>\n",
              "      <td>465.668030</td>\n",
              "      <td>305.883881</td>\n",
              "      <td>422.656982</td>\n",
              "      <td>285.812073</td>\n",
              "      <td>442.728790</td>\n",
              "      <td>357.497131</td>\n",
              "      <td>411.187378</td>\n",
              "      <td>325.955688</td>\n",
              "      <td>465.668030</td>\n",
              "      <td>351.762329</td>\n",
              "      <td>434.126587</td>\n",
              "      <td>346.027527</td>\n",
              "      <td>462.800629</td>\n",
              "      <td>420.579987</td>\n",
              "      <td>442.728790</td>\n",
              "      <td>414.845154</td>\n",
              "      <td>465.668030</td>\n",
              "      <td>472.193207</td>\n",
              "      <td>448.463593</td>\n",
              "      <td>463.591003</td>\n",
              "      <td>3.090761</td>\n",
              "      <td>1</td>\n",
              "      <td>0</td>\n",
              "    </tr>\n",
              "    <tr>\n",
              "      <th>2</th>\n",
              "      <td>417.496674</td>\n",
              "      <td>212.123474</td>\n",
              "      <td>423.200043</td>\n",
              "      <td>206.420120</td>\n",
              "      <td>417.496674</td>\n",
              "      <td>206.420120</td>\n",
              "      <td>446.013458</td>\n",
              "      <td>206.420120</td>\n",
              "      <td>440.310089</td>\n",
              "      <td>206.420120</td>\n",
              "      <td>471.678528</td>\n",
              "      <td>246.343582</td>\n",
              "      <td>434.606750</td>\n",
              "      <td>237.788559</td>\n",
              "      <td>465.975189</td>\n",
              "      <td>306.228790</td>\n",
              "      <td>423.200043</td>\n",
              "      <td>283.415375</td>\n",
              "      <td>454.568481</td>\n",
              "      <td>363.262329</td>\n",
              "      <td>414.645020</td>\n",
              "      <td>323.338837</td>\n",
              "      <td>465.975189</td>\n",
              "      <td>351.855621</td>\n",
              "      <td>434.606750</td>\n",
              "      <td>346.152252</td>\n",
              "      <td>463.123505</td>\n",
              "      <td>420.295837</td>\n",
              "      <td>443.161774</td>\n",
              "      <td>414.592499</td>\n",
              "      <td>465.975189</td>\n",
              "      <td>471.626007</td>\n",
              "      <td>448.865112</td>\n",
              "      <td>463.070984</td>\n",
              "      <td>3.083132</td>\n",
              "      <td>1</td>\n",
              "      <td>0</td>\n",
              "    </tr>\n",
              "    <tr>\n",
              "      <th>3</th>\n",
              "      <td>416.467834</td>\n",
              "      <td>211.306610</td>\n",
              "      <td>422.378326</td>\n",
              "      <td>205.396088</td>\n",
              "      <td>416.467834</td>\n",
              "      <td>205.396088</td>\n",
              "      <td>446.020416</td>\n",
              "      <td>205.396088</td>\n",
              "      <td>440.109894</td>\n",
              "      <td>205.396088</td>\n",
              "      <td>469.662506</td>\n",
              "      <td>246.769730</td>\n",
              "      <td>434.199371</td>\n",
              "      <td>237.903946</td>\n",
              "      <td>472.617767</td>\n",
              "      <td>308.830170</td>\n",
              "      <td>434.199371</td>\n",
              "      <td>288.143372</td>\n",
              "      <td>469.662506</td>\n",
              "      <td>362.024841</td>\n",
              "      <td>419.423065</td>\n",
              "      <td>320.651215</td>\n",
              "      <td>460.796722</td>\n",
              "      <td>353.159088</td>\n",
              "      <td>434.199371</td>\n",
              "      <td>347.248566</td>\n",
              "      <td>463.751984</td>\n",
              "      <td>424.085297</td>\n",
              "      <td>443.065155</td>\n",
              "      <td>412.264282</td>\n",
              "      <td>466.707245</td>\n",
              "      <td>471.369446</td>\n",
              "      <td>448.975677</td>\n",
              "      <td>462.503693</td>\n",
              "      <td>3.042056</td>\n",
              "      <td>1</td>\n",
              "      <td>0</td>\n",
              "    </tr>\n",
              "    <tr>\n",
              "      <th>4</th>\n",
              "      <td>417.535492</td>\n",
              "      <td>210.987717</td>\n",
              "      <td>420.436218</td>\n",
              "      <td>205.186279</td>\n",
              "      <td>414.634766</td>\n",
              "      <td>205.186279</td>\n",
              "      <td>443.641998</td>\n",
              "      <td>208.086990</td>\n",
              "      <td>440.741272</td>\n",
              "      <td>208.086990</td>\n",
              "      <td>469.748505</td>\n",
              "      <td>245.796387</td>\n",
              "      <td>434.939819</td>\n",
              "      <td>237.094223</td>\n",
              "      <td>481.351379</td>\n",
              "      <td>306.711548</td>\n",
              "      <td>437.840546</td>\n",
              "      <td>289.307220</td>\n",
              "      <td>481.351379</td>\n",
              "      <td>361.825287</td>\n",
              "      <td>423.336945</td>\n",
              "      <td>324.115906</td>\n",
              "      <td>458.145599</td>\n",
              "      <td>353.123108</td>\n",
              "      <td>432.039124</td>\n",
              "      <td>347.321686</td>\n",
              "      <td>463.947052</td>\n",
              "      <td>422.740448</td>\n",
              "      <td>443.641998</td>\n",
              "      <td>414.038300</td>\n",
              "      <td>466.847778</td>\n",
              "      <td>472.052734</td>\n",
              "      <td>446.542725</td>\n",
              "      <td>463.350586</td>\n",
              "      <td>3.021970</td>\n",
              "      <td>1</td>\n",
              "      <td>0</td>\n",
              "    </tr>\n",
              "  </tbody>\n",
              "</table>\n",
              "</div>"
            ],
            "text/plain": [
              "       Nose_X      Nose_Y      LEye_X  ...     Score  Activity  label\n",
              "0  418.167908  212.008392  423.865479  ...  3.071887         1      0\n",
              "1  419.789581  214.127029  425.524384  ...  3.090761         1      0\n",
              "2  417.496674  212.123474  423.200043  ...  3.083132         1      0\n",
              "3  416.467834  211.306610  422.378326  ...  3.042056         1      0\n",
              "4  417.535492  210.987717  420.436218  ...  3.021970         1      0\n",
              "\n",
              "[5 rows x 37 columns]"
            ]
          },
          "metadata": {
            "tags": []
          },
          "execution_count": 16
        }
      ]
    },
    {
      "cell_type": "code",
      "metadata": {
        "colab": {
          "base_uri": "https://localhost:8080/"
        },
        "id": "nIsYbUMqf-2c",
        "outputId": "084a2f91-2896-40ab-f84e-0fad22d70f31"
      },
      "source": [
        "label.classes_"
      ],
      "execution_count": null,
      "outputs": [
        {
          "output_type": "execute_result",
          "data": {
            "text/plain": [
              "array([1, 2, 3, 4, 5, 9])"
            ]
          },
          "metadata": {
            "tags": []
          },
          "execution_count": 17
        }
      ]
    },
    {
      "cell_type": "code",
      "metadata": {
        "id": "UQFAzfsMgIDO"
      },
      "source": [
        "X = balanced_data[[\"Nose_X\",\"Nose_Y\",\"LEye_X\",\"LEye_Y\",\"REye_X\",\"REye_Y\",\"LEar_X\",\"LEar_Y\",\"REar_X\",\"REar_Y\",\n",
        "         \"LShoulder_X\",\"LShoulder_Y\",\"RShoulder_X\",\"RShoulder_Y\",\"LElbow_X\",\"LElbow_Y\",\"RElbow_X\",\"RElbow_Y\",\n",
        "         \"LWrist_X\",\"LWrist_Y\",\"RWrist_X\",\"RWrist_Y\",\"LHip_X\",\"LHip_Y\",\"RHip_X\",\"RHip_Y\",\"LKnee_X\",\"LKnee_Y\",\n",
        "         \"Rknee_X\",\"Rknee_Y\",\"LAnkle_X\",\"LAnkle_Y\",\"RAnkle_X\",\"RAnkle_Y\",'Score']]\n",
        "y = balanced_data['label']"
      ],
      "execution_count": null,
      "outputs": []
    },
    {
      "cell_type": "code",
      "metadata": {
        "colab": {
          "base_uri": "https://localhost:8080/"
        },
        "id": "M73PYarohWae",
        "outputId": "7ea23580-50a3-46d1-e851-9efbeb50583b"
      },
      "source": [
        "X.shape"
      ],
      "execution_count": null,
      "outputs": [
        {
          "output_type": "execute_result",
          "data": {
            "text/plain": [
              "(14016, 35)"
            ]
          },
          "metadata": {
            "tags": []
          },
          "execution_count": 19
        }
      ]
    },
    {
      "cell_type": "code",
      "metadata": {
        "id": "qz1a18jmhlLP"
      },
      "source": [
        "#import scipy.stats as stats\n",
        "#Fs = 20\n",
        "#frame_size = Fs*4 # 80\n",
        "#hop_size = Fs*2 # 40"
      ],
      "execution_count": null,
      "outputs": []
    },
    {
      "cell_type": "markdown",
      "metadata": {
        "id": "yf1vg-lkYFno"
      },
      "source": [
        "def get_frames(exp, frame_size, hop_size):\n",
        "\n",
        "    N_FEATURES = 35\n",
        "\n",
        "    frames = []\n",
        "    labels = []\n",
        "    for i in range(0, len(exp) - frame_size, hop_size):\n",
        "        nx = exp['Nose_X'].values[i: i + frame_size]\n",
        "        ny = exp['Nose_Y'].values[i: i + frame_size]\n",
        "        lex = exp['LEye_X'].values[i: i + frame_size]\n",
        "        ley = exp['LEye_Y'].values[i: i + frame_size]\n",
        "        rex = exp['REye_X'].values[i: i + frame_size]\n",
        "        rey = exp['REye_Y'].values[i: i + frame_size]\n",
        "        lax = exp['LEar_X'].values[i: i + frame_size]\n",
        "        lay = exp['LEar_Y'].values[i: i + frame_size]\n",
        "        rax = exp['REar_X'].values[i: i + frame_size]\n",
        "        ray = exp['REar_Y'].values[i: i + frame_size]\n",
        "        lsx = exp['LShoulder_X'].values[i: i + frame_size]\n",
        "        lsy = exp['LShoulder_Y'].values[i: i + frame_size]\n",
        "        rsx = exp['RShoulder_X'].values[i: i + frame_size]\n",
        "        rsy = exp['RShoulder_Y'].values[i: i + frame_size]\n",
        "        lbx = exp['LElbow_X'].values[i: i + frame_size]\n",
        "        lby = exp['LElbow_Y'].values[i: i + frame_size]\n",
        "        rbx = exp['RElbow_X'].values[i: i + frame_size]\n",
        "        rby = exp['RElbow_Y'].values[i: i + frame_size]\n",
        "        lwx = exp['LWrist_X'].values[i: i + frame_size]\n",
        "        lwy = exp['LWrist_Y'].values[i: i + frame_size]\n",
        "        rwx = exp['RWrist_X'].values[i: i + frame_size]\n",
        "        rwy = exp['RWrist_Y'].values[i: i + frame_size]\n",
        "        lhx = exp['LHip_X'].values[i: i + frame_size]\n",
        "        lhy = exp['LHip_Y'].values[i: i + frame_size]\n",
        "        rhx = exp['RHip_X'].values[i: i + frame_size]\n",
        "        rhy = exp['RHip_Y'].values[i: i + frame_size]\n",
        "        lkx = exp['LKnee_X'].values[i: i + frame_size]\n",
        "        lky = exp['LKnee_Y'].values[i: i + frame_size]\n",
        "        rkx = exp['Rknee_X'].values[i: i + frame_size]\n",
        "        rky = exp['Rknee_Y'].values[i: i + frame_size]\n",
        "        lanx = exp['LAnkle_X'].values[i: i + frame_size]\n",
        "        lany = exp['LAnkle_Y'].values[i: i + frame_size]\n",
        "        ranx = exp['RAnkle_X'].values[i: i + frame_size]\n",
        "        rany = exp['RAnkle_Y'].values[i: i + frame_size]\n",
        "        s = exp['Score'].values[i: i + frame_size]\n",
        "\n",
        "        \n",
        "        # Retrieve the most often used label in this segment\n",
        "        label = stats.mode(exp['label'][i: i + frame_size])[0][0]\n",
        "        frames.append([nx,ny,lex,ley,rex,rey,lax,lay,rax,ray,lsx,lsy,rsx,rsy,lbx,lby,rbx,rby,lbx,lby,rbx,rby,lwx,lwy,rwx,rwy,lhx,lhy,rhx,rhy,lkx,lky,rkx,rky,lanx,lany,ranx,rany,s])\n",
        "        labels.append(label)\n",
        "\n",
        "    # Bring the segments into a better shape\n",
        "    frames = np.asarray(frames).reshape(-1, frame_size, N_FEATURES)\n",
        "    labels = np.asarray(labels)\n",
        "\n",
        "    return frames, labels"
      ]
    },
    {
      "cell_type": "code",
      "metadata": {
        "colab": {
          "base_uri": "https://localhost:8080/"
        },
        "id": "VTRCLWZvYcrD",
        "outputId": "8047f308-3038-4a1a-be5f-457c61f7573e"
      },
      "source": [
        "X.shape, y.shape"
      ],
      "execution_count": null,
      "outputs": [
        {
          "output_type": "execute_result",
          "data": {
            "text/plain": [
              "((14016, 35), (14016,))"
            ]
          },
          "metadata": {
            "tags": []
          },
          "execution_count": 23
        }
      ]
    },
    {
      "cell_type": "code",
      "metadata": {
        "id": "NMjcRsseZCms"
      },
      "source": [
        "X_train, X_test, y_train, y_test = train_test_split(X, y, test_size = 0.3, random_state = 0, stratify = y)"
      ],
      "execution_count": null,
      "outputs": []
    },
    {
      "cell_type": "code",
      "metadata": {
        "colab": {
          "base_uri": "https://localhost:8080/"
        },
        "id": "5HLq4S1vZMnz",
        "outputId": "312a5f93-c719-4ab0-9a99-db0269f2abe7"
      },
      "source": [
        "X_train.shape, X_test.shape"
      ],
      "execution_count": null,
      "outputs": [
        {
          "output_type": "execute_result",
          "data": {
            "text/plain": [
              "((9811, 35), (4205, 35))"
            ]
          },
          "metadata": {
            "tags": []
          },
          "execution_count": 25
        }
      ]
    },
    {
      "cell_type": "code",
      "metadata": {
        "id": "WSwhdM9GlSFI"
      },
      "source": [
        "from sklearn.preprocessing import StandardScaler\n",
        "scaler = StandardScaler()\n",
        "scaler.fit(X_train)\n",
        "\n",
        "X_train = scaler.transform(X_train)\n",
        "X_test = scaler.transform(X_test)"
      ],
      "execution_count": null,
      "outputs": []
    },
    {
      "cell_type": "code",
      "metadata": {
        "colab": {
          "base_uri": "https://localhost:8080/"
        },
        "id": "tfaXcTycjhIy",
        "outputId": "dbd20acf-7950-492e-f77a-5b0058bfdd25"
      },
      "source": [
        "X_train.shape"
      ],
      "execution_count": null,
      "outputs": [
        {
          "output_type": "execute_result",
          "data": {
            "text/plain": [
              "(9811, 35)"
            ]
          },
          "metadata": {
            "tags": []
          },
          "execution_count": 27
        }
      ]
    },
    {
      "cell_type": "code",
      "metadata": {
        "colab": {
          "base_uri": "https://localhost:8080/"
        },
        "id": "I_PRgvH9lWbj",
        "outputId": "17ea5058-f0d7-4a1c-a46b-fc7ce63665d9"
      },
      "source": [
        "from sklearn.neural_network import MLPClassifier\n",
        "mlp = MLPClassifier(hidden_layer_sizes=(100,), max_iter=1000)\n",
        "mlp.fit(X_train, y_train.values.ravel())"
      ],
      "execution_count": null,
      "outputs": [
        {
          "output_type": "execute_result",
          "data": {
            "text/plain": [
              "MLPClassifier(activation='relu', alpha=0.0001, batch_size='auto', beta_1=0.9,\n",
              "              beta_2=0.999, early_stopping=False, epsilon=1e-08,\n",
              "              hidden_layer_sizes=(100,), learning_rate='constant',\n",
              "              learning_rate_init=0.001, max_fun=15000, max_iter=1000,\n",
              "              momentum=0.9, n_iter_no_change=10, nesterovs_momentum=True,\n",
              "              power_t=0.5, random_state=None, shuffle=True, solver='adam',\n",
              "              tol=0.0001, validation_fraction=0.1, verbose=False,\n",
              "              warm_start=False)"
            ]
          },
          "metadata": {
            "tags": []
          },
          "execution_count": 34
        }
      ]
    },
    {
      "cell_type": "code",
      "metadata": {
        "id": "YjAMmtYDmFYY"
      },
      "source": [
        "predictions = mlp.predict(X_test)"
      ],
      "execution_count": null,
      "outputs": []
    },
    {
      "cell_type": "code",
      "metadata": {
        "colab": {
          "base_uri": "https://localhost:8080/"
        },
        "id": "SYscBnw-mNRB",
        "outputId": "cb1c1096-16ee-437b-fc0e-b4316e8ccf69"
      },
      "source": [
        "from sklearn.metrics import classification_report, confusion_matrix\n",
        "print(confusion_matrix(y_test,predictions))\n",
        "print(classification_report(y_test,predictions))"
      ],
      "execution_count": null,
      "outputs": [
        {
          "output_type": "stream",
          "text": [
            "[[617  66   9   3   3   3]\n",
            " [ 13 678   3   5   2   0]\n",
            " [  9  12 621   4  55   0]\n",
            " [  3  17   8 657  15   1]\n",
            " [  4   9  16   3 668   1]\n",
            " [  0   0   1   0   0 699]]\n",
            "              precision    recall  f1-score   support\n",
            "\n",
            "           0       0.96      0.88      0.92       701\n",
            "           1       0.87      0.97      0.91       701\n",
            "           2       0.94      0.89      0.91       701\n",
            "           3       0.98      0.94      0.96       701\n",
            "           4       0.90      0.95      0.93       701\n",
            "           5       0.99      1.00      1.00       700\n",
            "\n",
            "    accuracy                           0.94      4205\n",
            "   macro avg       0.94      0.94      0.94      4205\n",
            "weighted avg       0.94      0.94      0.94      4205\n",
            "\n"
          ],
          "name": "stdout"
        }
      ]
    },
    {
      "cell_type": "code",
      "metadata": {
        "colab": {
          "base_uri": "https://localhost:8080/",
          "height": 541
        },
        "id": "xzwELyEIRkCS",
        "outputId": "988dec6c-7048-4bc9-e0e2-16d0fc52f059"
      },
      "source": [
        "from sklearn.metrics import plot_confusion_matrix\n",
        "import seaborn as sns\n",
        "class_names=['Falling_Forward_Using_Hands','Falling_Forward_Using_Knees','Falling_Backwards','Falling_Sideways','Falling_Sitting_in_Empty_Chair','Picking_Up_an_Object']\n",
        "display_cm = plot_confusion_matrix(mlp, X_test, y_test,display_labels=class_names, cmap=plt.cm.Blues, normalize='pred',xticks_rotation='vertical')\n",
        "print(display_cm.confusion_matrix)\n",
        "#figure = plt.figure(figsize=(6,6))\n",
        "#plt.tight_layout(pad=1.5,h_pad=None,w_pad=None,rect=None)\n",
        "plt.ylabel('True label')\n",
        "plt.xlabel('Predicted label')"
      ],
      "execution_count": null,
      "outputs": [
        {
          "output_type": "stream",
          "text": [
            "[[0.95510836 0.08439898 0.01367781 0.00446429 0.00403769 0.00426136]\n",
            " [0.02012384 0.86700767 0.00455927 0.00744048 0.00269179 0.        ]\n",
            " [0.01393189 0.01534527 0.943769   0.00595238 0.07402423 0.        ]\n",
            " [0.00464396 0.02173913 0.01215805 0.97767857 0.02018843 0.00142045]\n",
            " [0.00619195 0.01150895 0.02431611 0.00446429 0.89905787 0.00142045]\n",
            " [0.         0.         0.00151976 0.         0.         0.99289773]]\n"
          ],
          "name": "stdout"
        },
        {
          "output_type": "execute_result",
          "data": {
            "text/plain": [
              "Text(0.5, 0, 'Predicted label')"
            ]
          },
          "metadata": {
            "tags": []
          },
          "execution_count": 41
        },
        {
          "output_type": "display_data",
          "data": {
            "image/png": "[encoded data removed]",
            "text/plain": [
              "<Figure size 432x288 with 2 Axes>"
            ]
          },
          "metadata": {
            "tags": [],
            "needs_background": "light"
          }
        }
      ]
    }
  ]
}