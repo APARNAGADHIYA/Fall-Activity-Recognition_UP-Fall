{
  "nbformat": 4,
  "nbformat_minor": 0,
  "metadata": {
    "colab": {
      "name": "MergeAllCSVFiles.ipynb",
      "provenance": [],
      "mount_file_id": "1Ngw8192Hatyuxqmx_R0q92V8z3W3JLRM",
      "authorship_tag": "ABX9TyMAz05hlnqTKLX/VYUta0LY",
      "include_colab_link": true
    },
    "kernelspec": {
      "name": "python3",
      "display_name": "Python 3"
    },
    "language_info": {
      "name": "python"
    }
  },
  "cells": [
    {
      "cell_type": "markdown",
      "metadata": {
        "id": "view-in-github",
        "colab_type": "text"
      },
      "source": [
        "<a href=\"https://colab.research.google.com/github/APARNAGADHIYA/Fall-Activity-Recognition_UP-Fall/blob/main/MergeAllCSVFiles.ipynb\" target=\"_parent\"><img src=\"https://colab.research.google.com/assets/colab-badge.svg\" alt=\"Open In Colab\"/></a>"
      ]
    },
    {
      "cell_type": "code",
      "metadata": {
        "id": "68nOsiDMXQfQ"
      },
      "source": [
        "import os\n",
        "import glob\n",
        "import pandas as pd\n"
      ],
      "execution_count": null,
      "outputs": []
    },
    {
      "cell_type": "code",
      "metadata": {
        "id": "QIMPjhM9YTtd"
      },
      "source": [
        "path = \"/content/drive/MyDrive/Fall_Detection_Using_Human_Skeleton_Features/CSVFiles\""
      ],
      "execution_count": null,
      "outputs": []
    },
    {
      "cell_type": "code",
      "metadata": {
        "id": "xYHLUgpyYdet"
      },
      "source": [
        "all_files = glob.glob(os.path.join(path, \"Activity*.csv\"))"
      ],
      "execution_count": null,
      "outputs": []
    },
    {
      "cell_type": "code",
      "metadata": {
        "id": "8u0XH3WhYsN2"
      },
      "source": [
        "df_from_each_file = (pd.read_csv(f, sep=',') for f in all_files)\n",
        "df_merged   = pd.concat(df_from_each_file, ignore_index=True)\n",
        "df_merged.to_csv( \"Merged.csv\")"
      ],
      "execution_count": null,
      "outputs": []
    }
  ]
}